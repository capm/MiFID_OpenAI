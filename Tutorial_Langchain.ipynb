{
 "cells": [
  {
   "cell_type": "markdown",
   "id": "58e2da69",
   "metadata": {},
   "source": [
    "## Code format"
   ]
  },
  {
   "cell_type": "code",
   "execution_count": 1,
   "id": "46b6199c",
   "metadata": {},
   "outputs": [
    {
     "data": {
      "application/javascript": [
       "\n",
       "            setTimeout(function() {\n",
       "                var nbb_cell_id = 1;\n",
       "                var nbb_unformatted_code = \"# Code format\\n# For Jupyter Notebook:\\n%load_ext nb_black\\n# For Jupyter Lab:\\n# %load_ext lab_black\";\n",
       "                var nbb_formatted_code = \"# Code format\\n# For Jupyter Notebook:\\n%load_ext nb_black\\n# For Jupyter Lab:\\n# %load_ext lab_black\";\n",
       "                var nbb_cells = Jupyter.notebook.get_cells();\n",
       "                for (var i = 0; i < nbb_cells.length; ++i) {\n",
       "                    if (nbb_cells[i].input_prompt_number == nbb_cell_id) {\n",
       "                        if (nbb_cells[i].get_text() == nbb_unformatted_code) {\n",
       "                             nbb_cells[i].set_text(nbb_formatted_code);\n",
       "                        }\n",
       "                        break;\n",
       "                    }\n",
       "                }\n",
       "            }, 500);\n",
       "            "
      ],
      "text/plain": [
       "<IPython.core.display.Javascript object>"
      ]
     },
     "metadata": {},
     "output_type": "display_data"
    }
   ],
   "source": [
    "# Code format\n",
    "# For Jupyter Notebook:\n",
    "%load_ext nb_black\n",
    "# For Jupyter Lab:\n",
    "# %load_ext lab_black"
   ]
  },
  {
   "cell_type": "markdown",
   "id": "d8fe7866",
   "metadata": {},
   "source": [
    "## Libraries"
   ]
  },
  {
   "cell_type": "code",
   "execution_count": 2,
   "id": "9dbf36d5",
   "metadata": {},
   "outputs": [
    {
     "data": {
      "application/javascript": [
       "\n",
       "            setTimeout(function() {\n",
       "                var nbb_cell_id = 2;\n",
       "                var nbb_unformatted_code = \"# Interacting with the operating system in a platform-independent way\\nimport os\\n\\n# Data management tools\\n# Serialization and deserialization of Python objects\\nimport pickle\\nimport json\\n\\n# Class used for reading and manipulating PDF files\\nfrom PyPDF2 import PdfReader\";\n",
       "                var nbb_formatted_code = \"# Interacting with the operating system in a platform-independent way\\nimport os\\n\\n# Data management tools\\n# Serialization and deserialization of Python objects\\nimport pickle\\nimport json\\n\\n# Class used for reading and manipulating PDF files\\nfrom PyPDF2 import PdfReader\";\n",
       "                var nbb_cells = Jupyter.notebook.get_cells();\n",
       "                for (var i = 0; i < nbb_cells.length; ++i) {\n",
       "                    if (nbb_cells[i].input_prompt_number == nbb_cell_id) {\n",
       "                        if (nbb_cells[i].get_text() == nbb_unformatted_code) {\n",
       "                             nbb_cells[i].set_text(nbb_formatted_code);\n",
       "                        }\n",
       "                        break;\n",
       "                    }\n",
       "                }\n",
       "            }, 500);\n",
       "            "
      ],
      "text/plain": [
       "<IPython.core.display.Javascript object>"
      ]
     },
     "metadata": {},
     "output_type": "display_data"
    }
   ],
   "source": [
    "# Interacting with the operating system in a platform-independent way\n",
    "import os\n",
    "\n",
    "# Data management tools\n",
    "# Serialization and deserialization of Python objects\n",
    "import pickle\n",
    "import json\n",
    "\n",
    "# Class used for reading and manipulating PDF files\n",
    "from PyPDF2 import PdfReader"
   ]
  },
  {
   "cell_type": "code",
   "execution_count": 3,
   "id": "1ec6aca3",
   "metadata": {},
   "outputs": [
    {
     "data": {
      "application/javascript": [
       "\n",
       "            setTimeout(function() {\n",
       "                var nbb_cell_id = 3;\n",
       "                var nbb_unformatted_code = \"# Libraries and classes to load and parse different types of text data\\nfrom langchain.document_loaders import (\\n    UnstructuredPDFLoader,\\n    OnlinePDFLoader,\\n    UnstructuredFileLoader,\\n    TextLoader,\\n    PyPDFLoader,\\n)\\n\\n# Classes for splitting text into characters and recursively splitting text into characters\\n# Tools for splitting text into smaller chunks for further processing\\nfrom langchain.text_splitter import (\\n    CharacterTextSplitter,\\n    RecursiveCharacterTextSplitter,\\n)\\n\\n# Tools for working with OpenAI's GPT-3 language model\\n# from langchain.embeddings import OpenAIEmbeddings\\nfrom langchain.embeddings.openai import OpenAIEmbeddings\\n\\n# Tools for working with vector databases, including authentication with the Pinecone and OpenAI APIs\\n# from langchain.vectorstores import Chroma, Pinecone\\n# from langchain.vectorstores.faiss import FAISS\\nfrom langchain.vectorstores import (\\n    Chroma,\\n    Pinecone,\\n    ElasticVectorSearch,\\n    Weaviate,\\n    FAISS,\\n)\\n\\n# Wrapper around OpenAI's API and provides tools for interacting with OpenAI's GPT-3 language model\\nfrom langchain.llms import OpenAI\\n\\n# Tools for building and running natural language processing (NLP) chains\\n# Class for building a retrieval-based question answering (QA) system and chatbots that interact with vector databases\\nfrom langchain.chains import (\\n    RetrievalQA,\\n    ChatVectorDBChain,\\n    ConversationalRetrievalChain,\\n)\\n\\n# Generating text prompts\\nfrom langchain.prompts.prompt import PromptTemplate\\n\\n# Load question answering chain\\nfrom langchain.chains.question_answering import load_qa_chain\\n\\n# Class to create indexes in vector databases\\nfrom langchain.indexes import VectorstoreIndexCreator\";\n",
       "                var nbb_formatted_code = \"# Libraries and classes to load and parse different types of text data\\nfrom langchain.document_loaders import (\\n    UnstructuredPDFLoader,\\n    OnlinePDFLoader,\\n    UnstructuredFileLoader,\\n    TextLoader,\\n    PyPDFLoader,\\n)\\n\\n# Classes for splitting text into characters and recursively splitting text into characters\\n# Tools for splitting text into smaller chunks for further processing\\nfrom langchain.text_splitter import (\\n    CharacterTextSplitter,\\n    RecursiveCharacterTextSplitter,\\n)\\n\\n# Tools for working with OpenAI's GPT-3 language model\\n# from langchain.embeddings import OpenAIEmbeddings\\nfrom langchain.embeddings.openai import OpenAIEmbeddings\\n\\n# Tools for working with vector databases, including authentication with the Pinecone and OpenAI APIs\\n# from langchain.vectorstores import Chroma, Pinecone\\n# from langchain.vectorstores.faiss import FAISS\\nfrom langchain.vectorstores import (\\n    Chroma,\\n    Pinecone,\\n    ElasticVectorSearch,\\n    Weaviate,\\n    FAISS,\\n)\\n\\n# Wrapper around OpenAI's API and provides tools for interacting with OpenAI's GPT-3 language model\\nfrom langchain.llms import OpenAI\\n\\n# Tools for building and running natural language processing (NLP) chains\\n# Class for building a retrieval-based question answering (QA) system and chatbots that interact with vector databases\\nfrom langchain.chains import (\\n    RetrievalQA,\\n    ChatVectorDBChain,\\n    ConversationalRetrievalChain,\\n)\\n\\n# Generating text prompts\\nfrom langchain.prompts.prompt import PromptTemplate\\n\\n# Load question answering chain\\nfrom langchain.chains.question_answering import load_qa_chain\\n\\n# Class to create indexes in vector databases\\nfrom langchain.indexes import VectorstoreIndexCreator\";\n",
       "                var nbb_cells = Jupyter.notebook.get_cells();\n",
       "                for (var i = 0; i < nbb_cells.length; ++i) {\n",
       "                    if (nbb_cells[i].input_prompt_number == nbb_cell_id) {\n",
       "                        if (nbb_cells[i].get_text() == nbb_unformatted_code) {\n",
       "                             nbb_cells[i].set_text(nbb_formatted_code);\n",
       "                        }\n",
       "                        break;\n",
       "                    }\n",
       "                }\n",
       "            }, 500);\n",
       "            "
      ],
      "text/plain": [
       "<IPython.core.display.Javascript object>"
      ]
     },
     "metadata": {},
     "output_type": "display_data"
    }
   ],
   "source": [
    "# Libraries and classes to load and parse different types of text data\n",
    "from langchain.document_loaders import (\n",
    "    UnstructuredPDFLoader,\n",
    "    OnlinePDFLoader,\n",
    "    UnstructuredFileLoader,\n",
    "    TextLoader,\n",
    "    PyPDFLoader,\n",
    ")\n",
    "\n",
    "# Classes for splitting text into characters and recursively splitting text into characters\n",
    "# Tools for splitting text into smaller chunks for further processing\n",
    "from langchain.text_splitter import (\n",
    "    CharacterTextSplitter,\n",
    "    RecursiveCharacterTextSplitter,\n",
    ")\n",
    "\n",
    "# Tools for working with OpenAI's GPT-3 language model\n",
    "# from langchain.embeddings import OpenAIEmbeddings\n",
    "from langchain.embeddings.openai import OpenAIEmbeddings\n",
    "\n",
    "# Tools for working with vector databases, including authentication with the Pinecone and OpenAI APIs\n",
    "# from langchain.vectorstores import Chroma, Pinecone\n",
    "# from langchain.vectorstores.faiss import FAISS\n",
    "from langchain.vectorstores import (\n",
    "    Chroma,\n",
    "    Pinecone,\n",
    "    ElasticVectorSearch,\n",
    "    Weaviate,\n",
    "    FAISS,\n",
    ")\n",
    "\n",
    "# Wrapper around OpenAI's API and provides tools for interacting with OpenAI's GPT-3 language model\n",
    "from langchain.llms import OpenAI\n",
    "\n",
    "# Tools for building and running natural language processing (NLP) chains\n",
    "# Class for building a retrieval-based question answering (QA) system and chatbots that interact with vector databases\n",
    "from langchain.chains import (\n",
    "    RetrievalQA,\n",
    "    ChatVectorDBChain,\n",
    "    ConversationalRetrievalChain,\n",
    ")\n",
    "\n",
    "# Generating text prompts\n",
    "from langchain.prompts.prompt import PromptTemplate\n",
    "\n",
    "# Load question answering chain\n",
    "from langchain.chains.question_answering import load_qa_chain\n",
    "\n",
    "# Class to create indexes in vector databases\n",
    "from langchain.indexes import VectorstoreIndexCreator"
   ]
  },
  {
   "cell_type": "markdown",
   "id": "f95ecb2b",
   "metadata": {},
   "source": [
    "## Functions"
   ]
  },
  {
   "cell_type": "code",
   "execution_count": 4,
   "id": "070a3a4e",
   "metadata": {},
   "outputs": [
    {
     "data": {
      "application/javascript": [
       "\n",
       "            setTimeout(function() {\n",
       "                var nbb_cell_id = 4;\n",
       "                var nbb_unformatted_code = \"# Function to save an object into a pickle file.\\ndef f_pklsave(arg_obj, arg_path: str):\\n    \\\"\\\"\\\"\\n    Serialize and save the given object to a pickle file at the specified path.\\n\\n    Parameters:\\n    arg_obj (object): The object that needs to be saved in the pickle file.\\n    arg_path (str): The file path of the pickle file where the object will be saved.\\n\\n    Returns:\\n    None\\n\\n    Example:\\n    >>> my_object = {\\\"name\\\": \\\"John\\\", \\\"age\\\": 25, \\\"address\\\": \\\"123 Main St\\\"}\\n    >>> file_path = \\\"./my_object.pkl\\\"\\n    >>> f_pklsave(my_object, file_path)\\n    \\\"\\\"\\\"\\n    # Dump object to pickle file\\n    pickle.dump(arg_obj, open(arg_path, \\\"wb\\\"))\";\n",
       "                var nbb_formatted_code = \"# Function to save an object into a pickle file.\\ndef f_pklsave(arg_obj, arg_path: str):\\n    \\\"\\\"\\\"\\n    Serialize and save the given object to a pickle file at the specified path.\\n\\n    Parameters:\\n    arg_obj (object): The object that needs to be saved in the pickle file.\\n    arg_path (str): The file path of the pickle file where the object will be saved.\\n\\n    Returns:\\n    None\\n\\n    Example:\\n    >>> my_object = {\\\"name\\\": \\\"John\\\", \\\"age\\\": 25, \\\"address\\\": \\\"123 Main St\\\"}\\n    >>> file_path = \\\"./my_object.pkl\\\"\\n    >>> f_pklsave(my_object, file_path)\\n    \\\"\\\"\\\"\\n    # Dump object to pickle file\\n    pickle.dump(arg_obj, open(arg_path, \\\"wb\\\"))\";\n",
       "                var nbb_cells = Jupyter.notebook.get_cells();\n",
       "                for (var i = 0; i < nbb_cells.length; ++i) {\n",
       "                    if (nbb_cells[i].input_prompt_number == nbb_cell_id) {\n",
       "                        if (nbb_cells[i].get_text() == nbb_unformatted_code) {\n",
       "                             nbb_cells[i].set_text(nbb_formatted_code);\n",
       "                        }\n",
       "                        break;\n",
       "                    }\n",
       "                }\n",
       "            }, 500);\n",
       "            "
      ],
      "text/plain": [
       "<IPython.core.display.Javascript object>"
      ]
     },
     "metadata": {},
     "output_type": "display_data"
    }
   ],
   "source": [
    "# Function to save an object into a pickle file.\n",
    "def f_pklsave(arg_obj, arg_path: str):\n",
    "    \"\"\"\n",
    "    Serialize and save the given object to a pickle file at the specified path.\n",
    "\n",
    "    Parameters:\n",
    "    arg_obj (object): The object that needs to be saved in the pickle file.\n",
    "    arg_path (str): The file path of the pickle file where the object will be saved.\n",
    "\n",
    "    Returns:\n",
    "    None\n",
    "\n",
    "    Example:\n",
    "    >>> my_object = {\"name\": \"John\", \"age\": 25, \"address\": \"123 Main St\"}\n",
    "    >>> file_path = \"./my_object.pkl\"\n",
    "    >>> f_pklsave(my_object, file_path)\n",
    "    \"\"\"\n",
    "    # Dump object to pickle file\n",
    "    pickle.dump(arg_obj, open(arg_path, \"wb\"))"
   ]
  },
  {
   "cell_type": "markdown",
   "id": "bf78cec3",
   "metadata": {},
   "source": [
    "## Variables"
   ]
  },
  {
   "cell_type": "code",
   "execution_count": 5,
   "id": "865d019e",
   "metadata": {},
   "outputs": [
    {
     "data": {
      "application/javascript": [
       "\n",
       "            setTimeout(function() {\n",
       "                var nbb_cell_id = 5;\n",
       "                var nbb_unformatted_code = \"# Folder paths\\nstr_folder_credentials = \\\"credentials/\\\"\\nstr_folder_sources = \\\"sources/\\\"\\nstr_folder_outputs = \\\"outputs/\\\"\";\n",
       "                var nbb_formatted_code = \"# Folder paths\\nstr_folder_credentials = \\\"credentials/\\\"\\nstr_folder_sources = \\\"sources/\\\"\\nstr_folder_outputs = \\\"outputs/\\\"\";\n",
       "                var nbb_cells = Jupyter.notebook.get_cells();\n",
       "                for (var i = 0; i < nbb_cells.length; ++i) {\n",
       "                    if (nbb_cells[i].input_prompt_number == nbb_cell_id) {\n",
       "                        if (nbb_cells[i].get_text() == nbb_unformatted_code) {\n",
       "                             nbb_cells[i].set_text(nbb_formatted_code);\n",
       "                        }\n",
       "                        break;\n",
       "                    }\n",
       "                }\n",
       "            }, 500);\n",
       "            "
      ],
      "text/plain": [
       "<IPython.core.display.Javascript object>"
      ]
     },
     "metadata": {},
     "output_type": "display_data"
    }
   ],
   "source": [
    "# Folder paths\n",
    "str_folder_credentials = \"credentials/\"\n",
    "str_folder_sources = \"sources/\"\n",
    "str_folder_outputs = \"outputs/\""
   ]
  },
  {
   "cell_type": "code",
   "execution_count": 6,
   "id": "7fb41cf5",
   "metadata": {},
   "outputs": [
    {
     "data": {
      "text/plain": [
       "['Cap 571H.pdf', 'counter.pdf', 'mifid2.pdf', 'Prospectiva.pdf']"
      ]
     },
     "execution_count": 6,
     "metadata": {},
     "output_type": "execute_result"
    },
    {
     "data": {
      "application/javascript": [
       "\n",
       "            setTimeout(function() {\n",
       "                var nbb_cell_id = 6;\n",
       "                var nbb_unformatted_code = \"# File names\\nlst_pdfs = [x for x in os.listdir(str_folder_sources) if x.endswith(\\\".pdf\\\")]\\nlst_pdfs\";\n",
       "                var nbb_formatted_code = \"# File names\\nlst_pdfs = [x for x in os.listdir(str_folder_sources) if x.endswith(\\\".pdf\\\")]\\nlst_pdfs\";\n",
       "                var nbb_cells = Jupyter.notebook.get_cells();\n",
       "                for (var i = 0; i < nbb_cells.length; ++i) {\n",
       "                    if (nbb_cells[i].input_prompt_number == nbb_cell_id) {\n",
       "                        if (nbb_cells[i].get_text() == nbb_unformatted_code) {\n",
       "                             nbb_cells[i].set_text(nbb_formatted_code);\n",
       "                        }\n",
       "                        break;\n",
       "                    }\n",
       "                }\n",
       "            }, 500);\n",
       "            "
      ],
      "text/plain": [
       "<IPython.core.display.Javascript object>"
      ]
     },
     "metadata": {},
     "output_type": "display_data"
    }
   ],
   "source": [
    "# File names\n",
    "lst_pdfs = [x for x in os.listdir(str_folder_sources) if x.endswith(\".pdf\")]\n",
    "lst_pdfs"
   ]
  },
  {
   "cell_type": "code",
   "execution_count": 7,
   "id": "8221c61b",
   "metadata": {},
   "outputs": [
    {
     "data": {
      "application/javascript": [
       "\n",
       "            setTimeout(function() {\n",
       "                var nbb_cell_id = 7;\n",
       "                var nbb_unformatted_code = \"# Filename, with and without extension\\nsrt_filename = lst_pdfs[2]\\nsrt_filename_next = srt_filename.split(\\\".\\\")[0]\";\n",
       "                var nbb_formatted_code = \"# Filename, with and without extension\\nsrt_filename = lst_pdfs[2]\\nsrt_filename_next = srt_filename.split(\\\".\\\")[0]\";\n",
       "                var nbb_cells = Jupyter.notebook.get_cells();\n",
       "                for (var i = 0; i < nbb_cells.length; ++i) {\n",
       "                    if (nbb_cells[i].input_prompt_number == nbb_cell_id) {\n",
       "                        if (nbb_cells[i].get_text() == nbb_unformatted_code) {\n",
       "                             nbb_cells[i].set_text(nbb_formatted_code);\n",
       "                        }\n",
       "                        break;\n",
       "                    }\n",
       "                }\n",
       "            }, 500);\n",
       "            "
      ],
      "text/plain": [
       "<IPython.core.display.Javascript object>"
      ]
     },
     "metadata": {},
     "output_type": "display_data"
    }
   ],
   "source": [
    "# Filename, with and without extension\n",
    "srt_filename = lst_pdfs[2]\n",
    "srt_filename_next = srt_filename.split(\".\")[0]"
   ]
  },
  {
   "cell_type": "code",
   "execution_count": 8,
   "id": "6e0389a4",
   "metadata": {},
   "outputs": [
    {
     "data": {
      "application/javascript": [
       "\n",
       "            setTimeout(function() {\n",
       "                var nbb_cell_id = 8;\n",
       "                var nbb_unformatted_code = \"# Filename and folders\\nstr_path_input = str_folder_sources + srt_filename\\nstr_path_output = str_folder_outputs + srt_filename_next + \\\".pkl\\\"\";\n",
       "                var nbb_formatted_code = \"# Filename and folders\\nstr_path_input = str_folder_sources + srt_filename\\nstr_path_output = str_folder_outputs + srt_filename_next + \\\".pkl\\\"\";\n",
       "                var nbb_cells = Jupyter.notebook.get_cells();\n",
       "                for (var i = 0; i < nbb_cells.length; ++i) {\n",
       "                    if (nbb_cells[i].input_prompt_number == nbb_cell_id) {\n",
       "                        if (nbb_cells[i].get_text() == nbb_unformatted_code) {\n",
       "                             nbb_cells[i].set_text(nbb_formatted_code);\n",
       "                        }\n",
       "                        break;\n",
       "                    }\n",
       "                }\n",
       "            }, 500);\n",
       "            "
      ],
      "text/plain": [
       "<IPython.core.display.Javascript object>"
      ]
     },
     "metadata": {},
     "output_type": "display_data"
    }
   ],
   "source": [
    "# Filename and folders\n",
    "str_path_input = str_folder_sources + srt_filename\n",
    "str_path_output = str_folder_outputs + srt_filename_next + \".pkl\""
   ]
  },
  {
   "cell_type": "code",
   "execution_count": 10,
   "id": "3eba3de6",
   "metadata": {},
   "outputs": [
    {
     "data": {
      "text/plain": [
       "('mifid2.pdf',\n",
       " 'sources/mifid2.pdf',\n",
       " 'outputs/mifid2.pkl',\n",
       " 'outputs/mifid2.pkl')"
      ]
     },
     "execution_count": 10,
     "metadata": {},
     "output_type": "execute_result"
    },
    {
     "data": {
      "application/javascript": [
       "\n",
       "            setTimeout(function() {\n",
       "                var nbb_cell_id = 10;\n",
       "                var nbb_unformatted_code = \"srt_filename, str_path_input, str_path_output, str_path_output\";\n",
       "                var nbb_formatted_code = \"srt_filename, str_path_input, str_path_output, str_path_output\";\n",
       "                var nbb_cells = Jupyter.notebook.get_cells();\n",
       "                for (var i = 0; i < nbb_cells.length; ++i) {\n",
       "                    if (nbb_cells[i].input_prompt_number == nbb_cell_id) {\n",
       "                        if (nbb_cells[i].get_text() == nbb_unformatted_code) {\n",
       "                             nbb_cells[i].set_text(nbb_formatted_code);\n",
       "                        }\n",
       "                        break;\n",
       "                    }\n",
       "                }\n",
       "            }, 500);\n",
       "            "
      ],
      "text/plain": [
       "<IPython.core.display.Javascript object>"
      ]
     },
     "metadata": {},
     "output_type": "display_data"
    }
   ],
   "source": [
    "srt_filename, str_path_input, str_path_output, str_path_output"
   ]
  },
  {
   "cell_type": "markdown",
   "id": "8364502a",
   "metadata": {},
   "source": [
    "### Authentication for APIs"
   ]
  },
  {
   "cell_type": "code",
   "execution_count": 11,
   "id": "6a2f3053",
   "metadata": {},
   "outputs": [
    {
     "data": {
      "application/javascript": [
       "\n",
       "            setTimeout(function() {\n",
       "                var nbb_cell_id = 11;\n",
       "                var nbb_unformatted_code = \"# Load credentials\\n# Create dictionary to store credentials\\nlst_cred = {}\\n# Loop through folder and load json file with credentials\\nfor x in [x for x in os.listdir(str_folder_credentials)]:\\n    lst_cred[x.split(\\\".\\\")[0]] = json.load(open(str_folder_credentials + x, \\\"r\\\"))\";\n",
       "                var nbb_formatted_code = \"# Load credentials\\n# Create dictionary to store credentials\\nlst_cred = {}\\n# Loop through folder and load json file with credentials\\nfor x in [x for x in os.listdir(str_folder_credentials)]:\\n    lst_cred[x.split(\\\".\\\")[0]] = json.load(open(str_folder_credentials + x, \\\"r\\\"))\";\n",
       "                var nbb_cells = Jupyter.notebook.get_cells();\n",
       "                for (var i = 0; i < nbb_cells.length; ++i) {\n",
       "                    if (nbb_cells[i].input_prompt_number == nbb_cell_id) {\n",
       "                        if (nbb_cells[i].get_text() == nbb_unformatted_code) {\n",
       "                             nbb_cells[i].set_text(nbb_formatted_code);\n",
       "                        }\n",
       "                        break;\n",
       "                    }\n",
       "                }\n",
       "            }, 500);\n",
       "            "
      ],
      "text/plain": [
       "<IPython.core.display.Javascript object>"
      ]
     },
     "metadata": {},
     "output_type": "display_data"
    }
   ],
   "source": [
    "# Load credentials\n",
    "# Create dictionary to store credentials\n",
    "lst_cred = {}\n",
    "# Loop through folder and load json file with credentials\n",
    "for x in [x for x in os.listdir(str_folder_credentials)]:\n",
    "    lst_cred[x.split(\".\")[0]] = json.load(open(str_folder_credentials + x, \"r\"))"
   ]
  },
  {
   "cell_type": "code",
   "execution_count": 12,
   "id": "795a0a20",
   "metadata": {},
   "outputs": [
    {
     "data": {
      "application/javascript": [
       "\n",
       "            setTimeout(function() {\n",
       "                var nbb_cell_id = 12;\n",
       "                var nbb_unformatted_code = \"OPENAI_API_KEY = lst_cred[\\\"yahoo\\\"][\\\"OPENAI_API_KEY\\\"]\\nPINECONE_API_KEY = lst_cred[\\\"mail\\\"][\\\"PINECONE_API_KEY\\\"]\\nPINECONE_API_ENV = lst_cred[\\\"yahoo\\\"][\\\"PINECONE_API_ENV\\\"]\";\n",
       "                var nbb_formatted_code = \"OPENAI_API_KEY = lst_cred[\\\"yahoo\\\"][\\\"OPENAI_API_KEY\\\"]\\nPINECONE_API_KEY = lst_cred[\\\"mail\\\"][\\\"PINECONE_API_KEY\\\"]\\nPINECONE_API_ENV = lst_cred[\\\"yahoo\\\"][\\\"PINECONE_API_ENV\\\"]\";\n",
       "                var nbb_cells = Jupyter.notebook.get_cells();\n",
       "                for (var i = 0; i < nbb_cells.length; ++i) {\n",
       "                    if (nbb_cells[i].input_prompt_number == nbb_cell_id) {\n",
       "                        if (nbb_cells[i].get_text() == nbb_unformatted_code) {\n",
       "                             nbb_cells[i].set_text(nbb_formatted_code);\n",
       "                        }\n",
       "                        break;\n",
       "                    }\n",
       "                }\n",
       "            }, 500);\n",
       "            "
      ],
      "text/plain": [
       "<IPython.core.display.Javascript object>"
      ]
     },
     "metadata": {},
     "output_type": "display_data"
    }
   ],
   "source": [
    "OPENAI_API_KEY = lst_cred[\"yahoo\"][\"OPENAI_API_KEY\"]\n",
    "PINECONE_API_KEY = lst_cred[\"mail\"][\"PINECONE_API_KEY\"]\n",
    "PINECONE_API_ENV = lst_cred[\"yahoo\"][\"PINECONE_API_ENV\"]"
   ]
  },
  {
   "cell_type": "markdown",
   "id": "50110030",
   "metadata": {},
   "source": [
    "## Ingestion of data"
   ]
  },
  {
   "cell_type": "markdown",
   "id": "9946741e",
   "metadata": {},
   "source": [
    "### Using `UnstructuredPDFLoader`"
   ]
  },
  {
   "cell_type": "code",
   "execution_count": 13,
   "id": "aad1ed68",
   "metadata": {},
   "outputs": [
    {
     "data": {
      "application/javascript": [
       "\n",
       "            setTimeout(function() {\n",
       "                var nbb_cell_id = 13;\n",
       "                var nbb_unformatted_code = \"# Load PDF file\\n# loader = UnstructuredPDFLoader(str_path_input)\\nloader = PyPDFLoader(str_path_input)\";\n",
       "                var nbb_formatted_code = \"# Load PDF file\\n# loader = UnstructuredPDFLoader(str_path_input)\\nloader = PyPDFLoader(str_path_input)\";\n",
       "                var nbb_cells = Jupyter.notebook.get_cells();\n",
       "                for (var i = 0; i < nbb_cells.length; ++i) {\n",
       "                    if (nbb_cells[i].input_prompt_number == nbb_cell_id) {\n",
       "                        if (nbb_cells[i].get_text() == nbb_unformatted_code) {\n",
       "                             nbb_cells[i].set_text(nbb_formatted_code);\n",
       "                        }\n",
       "                        break;\n",
       "                    }\n",
       "                }\n",
       "            }, 500);\n",
       "            "
      ],
      "text/plain": [
       "<IPython.core.display.Javascript object>"
      ]
     },
     "metadata": {},
     "output_type": "display_data"
    }
   ],
   "source": [
    "# Load PDF file\n",
    "# loader = UnstructuredPDFLoader(str_path_input)\n",
    "loader = PyPDFLoader(str_path_input)"
   ]
  },
  {
   "cell_type": "code",
   "execution_count": 14,
   "id": "7797e1db",
   "metadata": {},
   "outputs": [
    {
     "data": {
      "application/javascript": [
       "\n",
       "            setTimeout(function() {\n",
       "                var nbb_cell_id = 14;\n",
       "                var nbb_unformatted_code = \"# Parse its contents into an object\\n# data = loader.load()\";\n",
       "                var nbb_formatted_code = \"# Parse its contents into an object\\n# data = loader.load()\";\n",
       "                var nbb_cells = Jupyter.notebook.get_cells();\n",
       "                for (var i = 0; i < nbb_cells.length; ++i) {\n",
       "                    if (nbb_cells[i].input_prompt_number == nbb_cell_id) {\n",
       "                        if (nbb_cells[i].get_text() == nbb_unformatted_code) {\n",
       "                             nbb_cells[i].set_text(nbb_formatted_code);\n",
       "                        }\n",
       "                        break;\n",
       "                    }\n",
       "                }\n",
       "            }, 500);\n",
       "            "
      ],
      "text/plain": [
       "<IPython.core.display.Javascript object>"
      ]
     },
     "metadata": {},
     "output_type": "display_data"
    }
   ],
   "source": [
    "# Parse its contents into an object\n",
    "# data = loader.load()"
   ]
  },
  {
   "cell_type": "markdown",
   "id": "db678c28",
   "metadata": {},
   "source": [
    "### Using `PyPDF`"
   ]
  },
  {
   "cell_type": "code",
   "execution_count": 15,
   "id": "4fd6e757",
   "metadata": {},
   "outputs": [
    {
     "data": {
      "application/javascript": [
       "\n",
       "            setTimeout(function() {\n",
       "                var nbb_cell_id = 15;\n",
       "                var nbb_unformatted_code = \"# Read the PDF file\\ndata = PdfReader(str_path_input)\";\n",
       "                var nbb_formatted_code = \"# Read the PDF file\\ndata = PdfReader(str_path_input)\";\n",
       "                var nbb_cells = Jupyter.notebook.get_cells();\n",
       "                for (var i = 0; i < nbb_cells.length; ++i) {\n",
       "                    if (nbb_cells[i].input_prompt_number == nbb_cell_id) {\n",
       "                        if (nbb_cells[i].get_text() == nbb_unformatted_code) {\n",
       "                             nbb_cells[i].set_text(nbb_formatted_code);\n",
       "                        }\n",
       "                        break;\n",
       "                    }\n",
       "                }\n",
       "            }, 500);\n",
       "            "
      ],
      "text/plain": [
       "<IPython.core.display.Javascript object>"
      ]
     },
     "metadata": {},
     "output_type": "display_data"
    }
   ],
   "source": [
    "# Read the PDF file\n",
    "data = PdfReader(str_path_input)"
   ]
  },
  {
   "cell_type": "code",
   "execution_count": 16,
   "id": "94a8e585",
   "metadata": {},
   "outputs": [
    {
     "data": {
      "application/javascript": [
       "\n",
       "            setTimeout(function() {\n",
       "                var nbb_cell_id = 16;\n",
       "                var nbb_unformatted_code = \"# Read data from the file and store it in a variable\\n# Create empty string\\nraw_text = \\\"\\\"\\n# Loop to iterate through each page of the PDF file\\nfor i, page in enumerate(data.pages):\\n    # Extract the text content from each page\\n    text = page.extract_text()\\n    # Ensure that only pages with actual text content are added\\n    if text:\\n        raw_text += text\";\n",
       "                var nbb_formatted_code = \"# Read data from the file and store it in a variable\\n# Create empty string\\nraw_text = \\\"\\\"\\n# Loop to iterate through each page of the PDF file\\nfor i, page in enumerate(data.pages):\\n    # Extract the text content from each page\\n    text = page.extract_text()\\n    # Ensure that only pages with actual text content are added\\n    if text:\\n        raw_text += text\";\n",
       "                var nbb_cells = Jupyter.notebook.get_cells();\n",
       "                for (var i = 0; i < nbb_cells.length; ++i) {\n",
       "                    if (nbb_cells[i].input_prompt_number == nbb_cell_id) {\n",
       "                        if (nbb_cells[i].get_text() == nbb_unformatted_code) {\n",
       "                             nbb_cells[i].set_text(nbb_formatted_code);\n",
       "                        }\n",
       "                        break;\n",
       "                    }\n",
       "                }\n",
       "            }, 500);\n",
       "            "
      ],
      "text/plain": [
       "<IPython.core.display.Javascript object>"
      ]
     },
     "metadata": {},
     "output_type": "display_data"
    }
   ],
   "source": [
    "# Read data from the file and store it in a variable\n",
    "# Create empty string\n",
    "raw_text = \"\"\n",
    "# Loop to iterate through each page of the PDF file\n",
    "for i, page in enumerate(data.pages):\n",
    "    # Extract the text content from each page\n",
    "    text = page.extract_text()\n",
    "    # Ensure that only pages with actual text content are added\n",
    "    if text:\n",
    "        raw_text += text"
   ]
  },
  {
   "cell_type": "markdown",
   "id": "17d21f23",
   "metadata": {},
   "source": [
    "### Result"
   ]
  },
  {
   "cell_type": "code",
   "execution_count": 17,
   "id": "683adb73",
   "metadata": {},
   "outputs": [
    {
     "data": {
      "application/javascript": [
       "\n",
       "            setTimeout(function() {\n",
       "                var nbb_cell_id = 17;\n",
       "                var nbb_unformatted_code = \"# Display the number of characters in the first document\\u2019s page content\\n# print(f\\\"You have {len(data)} document(s) in your data\\\")\\n# print(f\\\"There are {len(data[0].page_content)} characters in your document\\\")\";\n",
       "                var nbb_formatted_code = \"# Display the number of characters in the first document\\u2019s page content\\n# print(f\\\"You have {len(data)} document(s) in your data\\\")\\n# print(f\\\"There are {len(data[0].page_content)} characters in your document\\\")\";\n",
       "                var nbb_cells = Jupyter.notebook.get_cells();\n",
       "                for (var i = 0; i < nbb_cells.length; ++i) {\n",
       "                    if (nbb_cells[i].input_prompt_number == nbb_cell_id) {\n",
       "                        if (nbb_cells[i].get_text() == nbb_unformatted_code) {\n",
       "                             nbb_cells[i].set_text(nbb_formatted_code);\n",
       "                        }\n",
       "                        break;\n",
       "                    }\n",
       "                }\n",
       "            }, 500);\n",
       "            "
      ],
      "text/plain": [
       "<IPython.core.display.Javascript object>"
      ]
     },
     "metadata": {},
     "output_type": "display_data"
    }
   ],
   "source": [
    "# Display the number of characters in the first document’s page content\n",
    "# print(f\"You have {len(data)} document(s) in your data\")\n",
    "# print(f\"There are {len(data[0].page_content)} characters in your document\")"
   ]
  },
  {
   "cell_type": "code",
   "execution_count": 21,
   "id": "ca4574a6",
   "metadata": {},
   "outputs": [
    {
     "name": "stdout",
     "output_type": "stream",
     "text": [
      "There are 509600 characters in your document\n"
     ]
    },
    {
     "data": {
      "application/javascript": [
       "\n",
       "            setTimeout(function() {\n",
       "                var nbb_cell_id = 21;\n",
       "                var nbb_unformatted_code = \"# Display the number of characters in the first document\\u2019s page content\\nprint(f\\\"There are {sum(len(i) for i in raw_text)} characters in your document\\\")\";\n",
       "                var nbb_formatted_code = \"# Display the number of characters in the first document\\u2019s page content\\nprint(f\\\"There are {sum(len(i) for i in raw_text)} characters in your document\\\")\";\n",
       "                var nbb_cells = Jupyter.notebook.get_cells();\n",
       "                for (var i = 0; i < nbb_cells.length; ++i) {\n",
       "                    if (nbb_cells[i].input_prompt_number == nbb_cell_id) {\n",
       "                        if (nbb_cells[i].get_text() == nbb_unformatted_code) {\n",
       "                             nbb_cells[i].set_text(nbb_formatted_code);\n",
       "                        }\n",
       "                        break;\n",
       "                    }\n",
       "                }\n",
       "            }, 500);\n",
       "            "
      ],
      "text/plain": [
       "<IPython.core.display.Javascript object>"
      ]
     },
     "metadata": {},
     "output_type": "display_data"
    }
   ],
   "source": [
    "# Display the number of characters in the first document’s page content\n",
    "print(f\"There are {sum(len(i) for i in raw_text)} characters in your document\")"
   ]
  },
  {
   "cell_type": "markdown",
   "id": "9e8c0f41",
   "metadata": {},
   "source": [
    "### Text split"
   ]
  },
  {
   "cell_type": "code",
   "execution_count": 22,
   "id": "1062ae43",
   "metadata": {},
   "outputs": [
    {
     "data": {
      "application/javascript": [
       "\n",
       "            setTimeout(function() {\n",
       "                var nbb_cell_id = 22;\n",
       "                var nbb_unformatted_code = \"# Using UnstructuredPDFLoader\\n# Chunk your data up into smaller documents\\n# Split Book into Smaller Chunks\\n# text_splitter = RecursiveCharacterTextSplitter(chunk_size=1000, chunk_overlap=250)\\n# texts = text_splitter.split_documents(data)\";\n",
       "                var nbb_formatted_code = \"# Using UnstructuredPDFLoader\\n# Chunk your data up into smaller documents\\n# Split Book into Smaller Chunks\\n# text_splitter = RecursiveCharacterTextSplitter(chunk_size=1000, chunk_overlap=250)\\n# texts = text_splitter.split_documents(data)\";\n",
       "                var nbb_cells = Jupyter.notebook.get_cells();\n",
       "                for (var i = 0; i < nbb_cells.length; ++i) {\n",
       "                    if (nbb_cells[i].input_prompt_number == nbb_cell_id) {\n",
       "                        if (nbb_cells[i].get_text() == nbb_unformatted_code) {\n",
       "                             nbb_cells[i].set_text(nbb_formatted_code);\n",
       "                        }\n",
       "                        break;\n",
       "                    }\n",
       "                }\n",
       "            }, 500);\n",
       "            "
      ],
      "text/plain": [
       "<IPython.core.display.Javascript object>"
      ]
     },
     "metadata": {},
     "output_type": "display_data"
    }
   ],
   "source": [
    "# Using UnstructuredPDFLoader\n",
    "# Chunk your data up into smaller documents\n",
    "# Split Book into Smaller Chunks\n",
    "# text_splitter = RecursiveCharacterTextSplitter(chunk_size=1000, chunk_overlap=250)\n",
    "# texts = text_splitter.split_documents(data)"
   ]
  },
  {
   "cell_type": "code",
   "execution_count": 23,
   "id": "455a9fcc",
   "metadata": {},
   "outputs": [
    {
     "data": {
      "application/javascript": [
       "\n",
       "            setTimeout(function() {\n",
       "                var nbb_cell_id = 23;\n",
       "                var nbb_unformatted_code = \"# Using PdfReader\\n# We need to split the text that we read into smaller chunks so that during information retreival we don't hit the token size limits\\ntext_splitter = CharacterTextSplitter(\\n    separator=\\\"\\\\n\\\",\\n    chunk_size=1000,\\n    chunk_overlap=200,\\n    length_function=len,\\n)\\ntexts = text_splitter.split_text(raw_text)\";\n",
       "                var nbb_formatted_code = \"# Using PdfReader\\n# We need to split the text that we read into smaller chunks so that during information retreival we don't hit the token size limits\\ntext_splitter = CharacterTextSplitter(\\n    separator=\\\"\\\\n\\\",\\n    chunk_size=1000,\\n    chunk_overlap=200,\\n    length_function=len,\\n)\\ntexts = text_splitter.split_text(raw_text)\";\n",
       "                var nbb_cells = Jupyter.notebook.get_cells();\n",
       "                for (var i = 0; i < nbb_cells.length; ++i) {\n",
       "                    if (nbb_cells[i].input_prompt_number == nbb_cell_id) {\n",
       "                        if (nbb_cells[i].get_text() == nbb_unformatted_code) {\n",
       "                             nbb_cells[i].set_text(nbb_formatted_code);\n",
       "                        }\n",
       "                        break;\n",
       "                    }\n",
       "                }\n",
       "            }, 500);\n",
       "            "
      ],
      "text/plain": [
       "<IPython.core.display.Javascript object>"
      ]
     },
     "metadata": {},
     "output_type": "display_data"
    }
   ],
   "source": [
    "# Using PdfReader\n",
    "# We need to split the text that we read into smaller chunks so that during information retreival we don't hit the token size limits\n",
    "text_splitter = CharacterTextSplitter(\n",
    "    separator=\"\\n\",\n",
    "    chunk_size=1000,\n",
    "    chunk_overlap=200,\n",
    "    length_function=len,\n",
    ")\n",
    "texts = text_splitter.split_text(raw_text)"
   ]
  },
  {
   "cell_type": "markdown",
   "id": "f6722b5c",
   "metadata": {},
   "source": [
    "## Embeddings\n",
    "Chroma, FAISS, and Pinecone all provide tools for similarity search in vector databases, they have different approaches and are optimized for different use cases. Chroma is optimized for large-scale datasets, FAISS is optimized for high performance and scalability, and Pinecone is optimized for fast and efficient similarity search in production environments."
   ]
  },
  {
   "cell_type": "code",
   "execution_count": 24,
   "id": "18d05113",
   "metadata": {},
   "outputs": [
    {
     "data": {
      "application/javascript": [
       "\n",
       "            setTimeout(function() {\n",
       "                var nbb_cell_id = 24;\n",
       "                var nbb_unformatted_code = \"embeddings = OpenAIEmbeddings(openai_api_key=OPENAI_API_KEY)\";\n",
       "                var nbb_formatted_code = \"embeddings = OpenAIEmbeddings(openai_api_key=OPENAI_API_KEY)\";\n",
       "                var nbb_cells = Jupyter.notebook.get_cells();\n",
       "                for (var i = 0; i < nbb_cells.length; ++i) {\n",
       "                    if (nbb_cells[i].input_prompt_number == nbb_cell_id) {\n",
       "                        if (nbb_cells[i].get_text() == nbb_unformatted_code) {\n",
       "                             nbb_cells[i].set_text(nbb_formatted_code);\n",
       "                        }\n",
       "                        break;\n",
       "                    }\n",
       "                }\n",
       "            }, 500);\n",
       "            "
      ],
      "text/plain": [
       "<IPython.core.display.Javascript object>"
      ]
     },
     "metadata": {},
     "output_type": "display_data"
    }
   ],
   "source": [
    "embeddings = OpenAIEmbeddings(openai_api_key=OPENAI_API_KEY)"
   ]
  },
  {
   "cell_type": "markdown",
   "id": "d485ea41",
   "metadata": {},
   "source": [
    "### Chroma\n",
    "Chroma is a library that provides a way to perform approximate nearest neighbor search using locality-sensitive hashing. It uses a hashing technique to map high-dimensional vectors to lower-dimensional space and then finds the closest vectors using these hashed values. Chroma is designed to be used with large datasets and can handle millions of vectors efficiently."
   ]
  },
  {
   "cell_type": "code",
   "execution_count": null,
   "id": "f91d7f7e",
   "metadata": {},
   "outputs": [],
   "source": [
    "# Create the vectorestore to use as the index\n",
    "db_chroma = Chroma.from_texts(texts, embeddings)"
   ]
  },
  {
   "cell_type": "code",
   "execution_count": null,
   "id": "d0f58b14",
   "metadata": {},
   "outputs": [],
   "source": [
    "# XXXX Store ChromeDB"
   ]
  },
  {
   "cell_type": "markdown",
   "id": "e7c8f175",
   "metadata": {},
   "source": [
    "### FAISS\n",
    "Library that provides a range of algorithms for performing similarity search in high-dimensional vector spaces. It uses an index structure to organize the vectors in a way that enables efficient nearest neighbor search. FAISS is designed to be very fast and efficient and is widely used in production environments for large-scale similarity search."
   ]
  },
  {
   "cell_type": "code",
   "execution_count": 25,
   "id": "70c761db",
   "metadata": {},
   "outputs": [
    {
     "data": {
      "application/javascript": [
       "\n",
       "            setTimeout(function() {\n",
       "                var nbb_cell_id = 25;\n",
       "                var nbb_unformatted_code = \"# Use the from_texts() function to convert each document into a vector\\ndb_faiss = FAISS.from_texts(texts, embeddings)\";\n",
       "                var nbb_formatted_code = \"# Use the from_texts() function to convert each document into a vector\\ndb_faiss = FAISS.from_texts(texts, embeddings)\";\n",
       "                var nbb_cells = Jupyter.notebook.get_cells();\n",
       "                for (var i = 0; i < nbb_cells.length; ++i) {\n",
       "                    if (nbb_cells[i].input_prompt_number == nbb_cell_id) {\n",
       "                        if (nbb_cells[i].get_text() == nbb_unformatted_code) {\n",
       "                             nbb_cells[i].set_text(nbb_formatted_code);\n",
       "                        }\n",
       "                        break;\n",
       "                    }\n",
       "                }\n",
       "            }, 500);\n",
       "            "
      ],
      "text/plain": [
       "<IPython.core.display.Javascript object>"
      ]
     },
     "metadata": {},
     "output_type": "display_data"
    }
   ],
   "source": [
    "# Use the from_texts() function to convert each document into a vector\n",
    "db_faiss = FAISS.from_texts(texts, embeddings)"
   ]
  },
  {
   "cell_type": "code",
   "execution_count": 26,
   "id": "0a81d2c3",
   "metadata": {},
   "outputs": [
    {
     "data": {
      "application/javascript": [
       "\n",
       "            setTimeout(function() {\n",
       "                var nbb_cell_id = 26;\n",
       "                var nbb_unformatted_code = \"# Filename\\nstr_path_output = str_folder_outputs + \\\"db_faiss\\\" + \\\".pkl\\\"\\n# Store vector database\\nf_pklsave(db_faiss, str_path_output)\";\n",
       "                var nbb_formatted_code = \"# Filename\\nstr_path_output = str_folder_outputs + \\\"db_faiss\\\" + \\\".pkl\\\"\\n# Store vector database\\nf_pklsave(db_faiss, str_path_output)\";\n",
       "                var nbb_cells = Jupyter.notebook.get_cells();\n",
       "                for (var i = 0; i < nbb_cells.length; ++i) {\n",
       "                    if (nbb_cells[i].input_prompt_number == nbb_cell_id) {\n",
       "                        if (nbb_cells[i].get_text() == nbb_unformatted_code) {\n",
       "                             nbb_cells[i].set_text(nbb_formatted_code);\n",
       "                        }\n",
       "                        break;\n",
       "                    }\n",
       "                }\n",
       "            }, 500);\n",
       "            "
      ],
      "text/plain": [
       "<IPython.core.display.Javascript object>"
      ]
     },
     "metadata": {},
     "output_type": "display_data"
    }
   ],
   "source": [
    "# Filename\n",
    "str_path_output = str_folder_outputs + \"db_faiss\" + \".pkl\"\n",
    "# Store vector database\n",
    "f_pklsave(db_faiss, str_path_output)"
   ]
  },
  {
   "cell_type": "markdown",
   "id": "63b115db",
   "metadata": {},
   "source": [
    "### Pinecone\n",
    "Pinecone is a cloud-based vector database service that provides a scalable and efficient way to store and search high-dimensional vectors. Pinecone is optimized for fast and efficient similarity search, and it provides a simple API for managing and searching vector databases. Pinecone is designed to be used in production environments and is scalable to handle millions or even billions of vectors."
   ]
  },
  {
   "cell_type": "code",
   "execution_count": null,
   "id": "25980a81",
   "metadata": {},
   "outputs": [],
   "source": [
    "# Initialize pinecone\n",
    "pinecone.init(\n",
    "    api_key=PINECONE_API_KEY,  # find at app.pinecone.io\n",
    "    environment=PINECONE_API_ENV,  # next to api key in console\n",
    ")\n",
    "# Name of the pinecone index\n",
    "index_name = \"general\"\n",
    "# Pinecone namespace for the document\n",
    "namespace = \"mifid2\""
   ]
  },
  {
   "cell_type": "code",
   "execution_count": null,
   "id": "f25435e6",
   "metadata": {},
   "outputs": [],
   "source": [
    "# Use the from_texts() function to convert each document into a vector\n",
    "db_pinecone = Pinecone.from_texts(\n",
    "    [t.page_content for t in texts],\n",
    "    embeddings,\n",
    "    index_name=index_name,\n",
    "    namespace=namespace,\n",
    ")"
   ]
  },
  {
   "cell_type": "code",
   "execution_count": null,
   "id": "dcc70d09",
   "metadata": {},
   "outputs": [],
   "source": [
    "# Filename\n",
    "str_path_output = str_folder_outputs + \"db_pinecone\" + \".pkl\"\n",
    "# Store vector database\n",
    "f_pklsave(db_pinecone, str_path_output)"
   ]
  },
  {
   "cell_type": "markdown",
   "id": "f797b6df",
   "metadata": {},
   "source": [
    "### Load pickle file with vector database"
   ]
  },
  {
   "cell_type": "code",
   "execution_count": null,
   "id": "4a5961a9",
   "metadata": {},
   "outputs": [],
   "source": [
    "# File names\n",
    "lst_pkls = [x for x in os.listdir(str_folder_outputs)]\n",
    "lst_pkls"
   ]
  },
  {
   "cell_type": "code",
   "execution_count": null,
   "id": "5a67262c",
   "metadata": {},
   "outputs": [],
   "source": [
    "# Pickle filename and path\n",
    "str_filename_pkl = str_folder_outputs + lst_pkls[2]\n",
    "str_filename_pkl"
   ]
  },
  {
   "cell_type": "code",
   "execution_count": null,
   "id": "0fe51b92",
   "metadata": {},
   "outputs": [],
   "source": [
    "db_vector = pickle.load(open(str_filename_pkl, \"rb\"))b"
   ]
  },
  {
   "cell_type": "markdown",
   "id": "671f609a",
   "metadata": {},
   "source": [
    "## Query data\n",
    "`load_qa_chain`, `RetrievalQA`, `VectorstoreIndexCreator` and `ConversationalRetrievalChain` are all part of the LangChain library, which provides tools for building and running natural language processing (NLP) chains.\n",
    "\n",
    "`load_qa_chain` and `RetrievalQA` are focused on question answering, while `VectorstoreIndexCreator` and `ConversationalRetrievalChain` are more general-purpose tools for working with text data and search."
   ]
  },
  {
   "cell_type": "code",
   "execution_count": 27,
   "id": "75068fa4",
   "metadata": {},
   "outputs": [
    {
     "data": {
      "application/javascript": [
       "\n",
       "            setTimeout(function() {\n",
       "                var nbb_cell_id = 27;\n",
       "                var nbb_unformatted_code = \"# Create new instance of the OpenAI class\\n# llm = OpenAI(temperature=0, openai_api_key=OPENAI_API_KEY)\\nllm = OpenAI(openai_api_key=OPENAI_API_KEY)\";\n",
       "                var nbb_formatted_code = \"# Create new instance of the OpenAI class\\n# llm = OpenAI(temperature=0, openai_api_key=OPENAI_API_KEY)\\nllm = OpenAI(openai_api_key=OPENAI_API_KEY)\";\n",
       "                var nbb_cells = Jupyter.notebook.get_cells();\n",
       "                for (var i = 0; i < nbb_cells.length; ++i) {\n",
       "                    if (nbb_cells[i].input_prompt_number == nbb_cell_id) {\n",
       "                        if (nbb_cells[i].get_text() == nbb_unformatted_code) {\n",
       "                             nbb_cells[i].set_text(nbb_formatted_code);\n",
       "                        }\n",
       "                        break;\n",
       "                    }\n",
       "                }\n",
       "            }, 500);\n",
       "            "
      ],
      "text/plain": [
       "<IPython.core.display.Javascript object>"
      ]
     },
     "metadata": {},
     "output_type": "display_data"
    }
   ],
   "source": [
    "# Create new instance of the OpenAI class\n",
    "# llm = OpenAI(temperature=0, openai_api_key=OPENAI_API_KEY)\n",
    "llm = OpenAI(openai_api_key=OPENAI_API_KEY)"
   ]
  },
  {
   "cell_type": "code",
   "execution_count": 28,
   "id": "8c8c92b5",
   "metadata": {},
   "outputs": [
    {
     "data": {
      "application/javascript": [
       "\n",
       "            setTimeout(function() {\n",
       "                var nbb_cell_id = 28;\n",
       "                var nbb_unformatted_code = \"# Question that the NLP chain will attempt to answer\\nquery = \\\"What is the full title of this document?\\\"\";\n",
       "                var nbb_formatted_code = \"# Question that the NLP chain will attempt to answer\\nquery = \\\"What is the full title of this document?\\\"\";\n",
       "                var nbb_cells = Jupyter.notebook.get_cells();\n",
       "                for (var i = 0; i < nbb_cells.length; ++i) {\n",
       "                    if (nbb_cells[i].input_prompt_number == nbb_cell_id) {\n",
       "                        if (nbb_cells[i].get_text() == nbb_unformatted_code) {\n",
       "                             nbb_cells[i].set_text(nbb_formatted_code);\n",
       "                        }\n",
       "                        break;\n",
       "                    }\n",
       "                }\n",
       "            }, 500);\n",
       "            "
      ],
      "text/plain": [
       "<IPython.core.display.Javascript object>"
      ]
     },
     "metadata": {},
     "output_type": "display_data"
    }
   ],
   "source": [
    "# Question that the NLP chain will attempt to answer\n",
    "query = \"What is the full title of this document?\""
   ]
  },
  {
   "cell_type": "code",
   "execution_count": 29,
   "id": "6151eca1",
   "metadata": {},
   "outputs": [
    {
     "data": {
      "application/javascript": [
       "\n",
       "            setTimeout(function() {\n",
       "                var nbb_cell_id = 29;\n",
       "                var nbb_unformatted_code = \"# Selection of vector database\\n# docsearch = db_chroma\\ndocsearch = db_faiss\\n# docsearch = db_pinecone\";\n",
       "                var nbb_formatted_code = \"# Selection of vector database\\n# docsearch = db_chroma\\ndocsearch = db_faiss\\n# docsearch = db_pinecone\";\n",
       "                var nbb_cells = Jupyter.notebook.get_cells();\n",
       "                for (var i = 0; i < nbb_cells.length; ++i) {\n",
       "                    if (nbb_cells[i].input_prompt_number == nbb_cell_id) {\n",
       "                        if (nbb_cells[i].get_text() == nbb_unformatted_code) {\n",
       "                             nbb_cells[i].set_text(nbb_formatted_code);\n",
       "                        }\n",
       "                        break;\n",
       "                    }\n",
       "                }\n",
       "            }, 500);\n",
       "            "
      ],
      "text/plain": [
       "<IPython.core.display.Javascript object>"
      ]
     },
     "metadata": {},
     "output_type": "display_data"
    }
   ],
   "source": [
    "# Selection of vector database\n",
    "# docsearch = db_chroma\n",
    "docsearch = db_faiss\n",
    "# docsearch = db_pinecone"
   ]
  },
  {
   "cell_type": "code",
   "execution_count": 30,
   "id": "10d087a8",
   "metadata": {},
   "outputs": [
    {
     "data": {
      "application/javascript": [
       "\n",
       "            setTimeout(function() {\n",
       "                var nbb_cell_id = 30;\n",
       "                var nbb_unformatted_code = \"# Create a retriever from the vector database\\nretriever = docsearch.as_retriever(search_type=\\\"similarity\\\", search_kwargs={\\\"k\\\": 2})\";\n",
       "                var nbb_formatted_code = \"# Create a retriever from the vector database\\nretriever = docsearch.as_retriever(search_type=\\\"similarity\\\", search_kwargs={\\\"k\\\": 2})\";\n",
       "                var nbb_cells = Jupyter.notebook.get_cells();\n",
       "                for (var i = 0; i < nbb_cells.length; ++i) {\n",
       "                    if (nbb_cells[i].input_prompt_number == nbb_cell_id) {\n",
       "                        if (nbb_cells[i].get_text() == nbb_unformatted_code) {\n",
       "                             nbb_cells[i].set_text(nbb_formatted_code);\n",
       "                        }\n",
       "                        break;\n",
       "                    }\n",
       "                }\n",
       "            }, 500);\n",
       "            "
      ],
      "text/plain": [
       "<IPython.core.display.Javascript object>"
      ]
     },
     "metadata": {},
     "output_type": "display_data"
    }
   ],
   "source": [
    "# Create a retriever from the vector database\n",
    "retriever = docsearch.as_retriever(search_type=\"similarity\", search_kwargs={\"k\": 2})"
   ]
  },
  {
   "cell_type": "markdown",
   "id": "385ebac3",
   "metadata": {},
   "source": [
    "### `load_qa_chain`\n",
    "Function that loads a pre-trained question answering model from disk. The function returns a `QuestionAnsweringChain` object that can be used to answer questions based on the input context."
   ]
  },
  {
   "cell_type": "code",
   "execution_count": 31,
   "id": "f30fb0f8",
   "metadata": {},
   "outputs": [
    {
     "data": {
      "application/javascript": [
       "\n",
       "            setTimeout(function() {\n",
       "                var nbb_cell_id = 31;\n",
       "                var nbb_unformatted_code = \"# Load a pre-trained question-answering (QA) chain and creates an instance of it\\nchain = load_qa_chain(llm=llm, chain_type=\\\"stuff\\\")\";\n",
       "                var nbb_formatted_code = \"# Load a pre-trained question-answering (QA) chain and creates an instance of it\\nchain = load_qa_chain(llm=llm, chain_type=\\\"stuff\\\")\";\n",
       "                var nbb_cells = Jupyter.notebook.get_cells();\n",
       "                for (var i = 0; i < nbb_cells.length; ++i) {\n",
       "                    if (nbb_cells[i].input_prompt_number == nbb_cell_id) {\n",
       "                        if (nbb_cells[i].get_text() == nbb_unformatted_code) {\n",
       "                             nbb_cells[i].set_text(nbb_formatted_code);\n",
       "                        }\n",
       "                        break;\n",
       "                    }\n",
       "                }\n",
       "            }, 500);\n",
       "            "
      ],
      "text/plain": [
       "<IPython.core.display.Javascript object>"
      ]
     },
     "metadata": {},
     "output_type": "display_data"
    }
   ],
   "source": [
    "# Load a pre-trained question-answering (QA) chain and creates an instance of it\n",
    "chain = load_qa_chain(llm=llm, chain_type=\"stuff\")"
   ]
  },
  {
   "cell_type": "code",
   "execution_count": 32,
   "id": "42891563",
   "metadata": {},
   "outputs": [
    {
     "data": {
      "application/javascript": [
       "\n",
       "            setTimeout(function() {\n",
       "                var nbb_cell_id = 32;\n",
       "                var nbb_unformatted_code = \"# Query string as input and searches the vector database for similar documents\\n# docs variable is a list of documents that are similar to the query string, ordered by their similarity score.\\ndocs = docsearch.similarity_search(query)\";\n",
       "                var nbb_formatted_code = \"# Query string as input and searches the vector database for similar documents\\n# docs variable is a list of documents that are similar to the query string, ordered by their similarity score.\\ndocs = docsearch.similarity_search(query)\";\n",
       "                var nbb_cells = Jupyter.notebook.get_cells();\n",
       "                for (var i = 0; i < nbb_cells.length; ++i) {\n",
       "                    if (nbb_cells[i].input_prompt_number == nbb_cell_id) {\n",
       "                        if (nbb_cells[i].get_text() == nbb_unformatted_code) {\n",
       "                             nbb_cells[i].set_text(nbb_formatted_code);\n",
       "                        }\n",
       "                        break;\n",
       "                    }\n",
       "                }\n",
       "            }, 500);\n",
       "            "
      ],
      "text/plain": [
       "<IPython.core.display.Javascript object>"
      ]
     },
     "metadata": {},
     "output_type": "display_data"
    }
   ],
   "source": [
    "# Query string as input and searches the vector database for similar documents\n",
    "# docs variable is a list of documents that are similar to the query string, ordered by their similarity score.\n",
    "docs = docsearch.similarity_search(query)"
   ]
  },
  {
   "cell_type": "code",
   "execution_count": 33,
   "id": "55b285a2",
   "metadata": {},
   "outputs": [
    {
     "data": {
      "text/plain": [
       "' Directive 2014/65/EU of the European Parliament and of the Council of 15 May 2014 on markets in financial instruments and amending Directive 2002/92/EC and Directive 2011/61/EU.'"
      ]
     },
     "execution_count": 33,
     "metadata": {},
     "output_type": "execute_result"
    },
    {
     "data": {
      "application/javascript": [
       "\n",
       "            setTimeout(function() {\n",
       "                var nbb_cell_id = 33;\n",
       "                var nbb_unformatted_code = \"# Processes the input documents and the question using a pre-trained machine learning model and returns an answer to the question\\nchain.run(input_documents=docs, question=query)\";\n",
       "                var nbb_formatted_code = \"# Processes the input documents and the question using a pre-trained machine learning model and returns an answer to the question\\nchain.run(input_documents=docs, question=query)\";\n",
       "                var nbb_cells = Jupyter.notebook.get_cells();\n",
       "                for (var i = 0; i < nbb_cells.length; ++i) {\n",
       "                    if (nbb_cells[i].input_prompt_number == nbb_cell_id) {\n",
       "                        if (nbb_cells[i].get_text() == nbb_unformatted_code) {\n",
       "                             nbb_cells[i].set_text(nbb_formatted_code);\n",
       "                        }\n",
       "                        break;\n",
       "                    }\n",
       "                }\n",
       "            }, 500);\n",
       "            "
      ],
      "text/plain": [
       "<IPython.core.display.Javascript object>"
      ]
     },
     "metadata": {},
     "output_type": "display_data"
    }
   ],
   "source": [
    "# Processes the input documents and the question using a pre-trained machine learning model and returns an answer to the question\n",
    "chain.run(input_documents=docs, question=query)"
   ]
  },
  {
   "cell_type": "markdown",
   "id": "e9987d1d",
   "metadata": {},
   "source": [
    "#### Parameters"
   ]
  },
  {
   "cell_type": "markdown",
   "id": "b88ecf78",
   "metadata": {},
   "source": [
    "`stuff`, `map_reduce`, `refine`, and `map-rerank` are different strategies or approaches used in the Langchain package for performing natural language processing (NLP) tasks such as question-answering or text generation.\n",
    "\n",
    "- `stuff` strategy is based on generating multiple candidate answers from different sources and using a simple algorithm to select the best answer.\n",
    "\n",
    "- `map_reduce` strategy divides a large dataset into smaller parts, applies a function (map) to each part, and then combines the results (reduce) to generate the final output. This strategy can be used to speed up the processing of large datasets.\n",
    "\n",
    "- `refine` strategy is based on iteratively refining the answer by using different NLP models to generate new candidate answers and then selecting the best one.\n",
    "\n",
    "- `map-rerank` strategy is similar to the `map_reduce` strategy, but it also includes a reranking step where the results are sorted according to their relevance to the input query.\n",
    "\n",
    "These strategies can be used in combination to achieve better results depending on the specific use case and the type of data being processed.\n",
    "\n",
    "[Source.](https://python.langchain.com/en/latest/modules/chains/index_examples/qa_with_sources.html)"
   ]
  },
  {
   "cell_type": "code",
   "execution_count": null,
   "id": "e79d8e43",
   "metadata": {},
   "outputs": [],
   "source": [
    "### For multiple documents \n",
    "# loaders = [....]\n",
    "# documents = []\n",
    "# for loader in loaders:\n",
    "#     documents.extend(loader.load())\n",
    "#\n",
    "chain = load_qa_chain(llm=llm, chain_type=\"map_reduce\")\n",
    "query = \"what is the total number of AI publications?\"\n",
    "chain.run(input_documents=documents, question=query)"
   ]
  },
  {
   "cell_type": "markdown",
   "id": "b08b1ac0",
   "metadata": {},
   "source": [
    "### `RetrievalQA`\n",
    "Class that implements a question answering pipeline that retrieves relevant documents from a document database before answering the question. It uses Elasticsearch as the document database and uses a TF-IDF vectorizer to rank the documents based on their relevance."
   ]
  },
  {
   "cell_type": "code",
   "execution_count": 34,
   "id": "877f2e06",
   "metadata": {},
   "outputs": [
    {
     "data": {
      "application/javascript": [
       "\n",
       "            setTimeout(function() {\n",
       "                var nbb_cell_id = 34;\n",
       "                var nbb_unformatted_code = \"# create a chain to answer questions\\nqa = RetrievalQA.from_chain_type(\\n    llm=llm, chain_type=\\\"stuff\\\", retriever=retriever, return_source_documents=True\\n)\";\n",
       "                var nbb_formatted_code = \"# create a chain to answer questions\\nqa = RetrievalQA.from_chain_type(\\n    llm=llm, chain_type=\\\"stuff\\\", retriever=retriever, return_source_documents=True\\n)\";\n",
       "                var nbb_cells = Jupyter.notebook.get_cells();\n",
       "                for (var i = 0; i < nbb_cells.length; ++i) {\n",
       "                    if (nbb_cells[i].input_prompt_number == nbb_cell_id) {\n",
       "                        if (nbb_cells[i].get_text() == nbb_unformatted_code) {\n",
       "                             nbb_cells[i].set_text(nbb_formatted_code);\n",
       "                        }\n",
       "                        break;\n",
       "                    }\n",
       "                }\n",
       "            }, 500);\n",
       "            "
      ],
      "text/plain": [
       "<IPython.core.display.Javascript object>"
      ]
     },
     "metadata": {},
     "output_type": "display_data"
    }
   ],
   "source": [
    "# create a chain to answer questions\n",
    "qa = RetrievalQA.from_chain_type(\n",
    "    llm=llm, chain_type=\"stuff\", retriever=retriever, return_source_documents=True\n",
    ")"
   ]
  },
  {
   "cell_type": "code",
   "execution_count": 35,
   "id": "1114b6b3",
   "metadata": {},
   "outputs": [
    {
     "data": {
      "application/javascript": [
       "\n",
       "            setTimeout(function() {\n",
       "                var nbb_cell_id = 35;\n",
       "                var nbb_unformatted_code = \"result = qa({\\\"query\\\": query})\";\n",
       "                var nbb_formatted_code = \"result = qa({\\\"query\\\": query})\";\n",
       "                var nbb_cells = Jupyter.notebook.get_cells();\n",
       "                for (var i = 0; i < nbb_cells.length; ++i) {\n",
       "                    if (nbb_cells[i].input_prompt_number == nbb_cell_id) {\n",
       "                        if (nbb_cells[i].get_text() == nbb_unformatted_code) {\n",
       "                             nbb_cells[i].set_text(nbb_formatted_code);\n",
       "                        }\n",
       "                        break;\n",
       "                    }\n",
       "                }\n",
       "            }, 500);\n",
       "            "
      ],
      "text/plain": [
       "<IPython.core.display.Javascript object>"
      ]
     },
     "metadata": {},
     "output_type": "display_data"
    }
   ],
   "source": [
    "result = qa({\"query\": query})"
   ]
  },
  {
   "cell_type": "code",
   "execution_count": 36,
   "id": "0a42b558",
   "metadata": {},
   "outputs": [
    {
     "data": {
      "text/plain": [
       "[Document(page_content='No 45/2001 and delivered an opinion on 10 February 2012 (  1 ). \\n(168)  In accordance with the Joint Political Declaration of Member States and the Commission on explanatory \\ndocuments of 28 September 2011 (  2 ), Member States have undertaken to accompany, in justified cases, the \\nnotification of their transposition measures with one or more documents explaining the relationship between \\nthe components of a directive and the corresponding parts of national transposition instruments. With regard to \\nthis Directive, the legislator considers the transmission of such documents to be justified.  \\n(169)  The obligation to transpose this Directive into national law should be confined to those provisions which represent \\na substantive amendment as compared to the earlier Directives. The obligation to transpose the provisions which \\nare unchanged arises under the earlier Directives.', metadata={}),\n",
       " Document(page_content='provided in a standardised format;  \\n(d) the investment firm complies with its obligations under Article 23.  \\n5. The investment firm shall establish a record that includes the document or documents agreed between the \\ninvestment firm and the client that set out the rights and obligations of the parties, and the other terms on which \\nthe investment firm will provide services to the client. The rights and duties of the parties to the contract may be \\nincorporated by reference to other documents or legal texts.  \\n6. The investment firm shall provide the client with adequate reports on the service provided in a durable medium. \\nThose reports shall include periodic communications to clients, taking into account the type and the complexity of \\nfinancial instruments involved and the nature of the service provided to the client and shall include, where applicable, the \\ncosts associated with the transactions and services undertaken on behalf of the client.', metadata={})]"
      ]
     },
     "execution_count": 36,
     "metadata": {},
     "output_type": "execute_result"
    },
    {
     "data": {
      "application/javascript": [
       "\n",
       "            setTimeout(function() {\n",
       "                var nbb_cell_id = 36;\n",
       "                var nbb_unformatted_code = \"retriever.get_relevant_documents(query)\";\n",
       "                var nbb_formatted_code = \"retriever.get_relevant_documents(query)\";\n",
       "                var nbb_cells = Jupyter.notebook.get_cells();\n",
       "                for (var i = 0; i < nbb_cells.length; ++i) {\n",
       "                    if (nbb_cells[i].input_prompt_number == nbb_cell_id) {\n",
       "                        if (nbb_cells[i].get_text() == nbb_unformatted_code) {\n",
       "                             nbb_cells[i].set_text(nbb_formatted_code);\n",
       "                        }\n",
       "                        break;\n",
       "                    }\n",
       "                }\n",
       "            }, 500);\n",
       "            "
      ],
      "text/plain": [
       "<IPython.core.display.Javascript object>"
      ]
     },
     "metadata": {},
     "output_type": "display_data"
    }
   ],
   "source": [
    "retriever.get_relevant_documents(query)"
   ]
  },
  {
   "cell_type": "code",
   "execution_count": 37,
   "id": "e86b0794",
   "metadata": {},
   "outputs": [
    {
     "data": {
      "text/plain": [
       "{'query': 'What is the full title of this document?',\n",
       " 'result': \" I don't know.\",\n",
       " 'source_documents': [Document(page_content='No 45/2001 and delivered an opinion on 10 February 2012 (  1 ). \\n(168)  In accordance with the Joint Political Declaration of Member States and the Commission on explanatory \\ndocuments of 28 September 2011 (  2 ), Member States have undertaken to accompany, in justified cases, the \\nnotification of their transposition measures with one or more documents explaining the relationship between \\nthe components of a directive and the corresponding parts of national transposition instruments. With regard to \\nthis Directive, the legislator considers the transmission of such documents to be justified.  \\n(169)  The obligation to transpose this Directive into national law should be confined to those provisions which represent \\na substantive amendment as compared to the earlier Directives. The obligation to transpose the provisions which \\nare unchanged arises under the earlier Directives.', metadata={}),\n",
       "  Document(page_content='provided in a standardised format;  \\n(d) the investment firm complies with its obligations under Article 23.  \\n5. The investment firm shall establish a record that includes the document or documents agreed between the \\ninvestment firm and the client that set out the rights and obligations of the parties, and the other terms on which \\nthe investment firm will provide services to the client. The rights and duties of the parties to the contract may be \\nincorporated by reference to other documents or legal texts.  \\n6. The investment firm shall provide the client with adequate reports on the service provided in a durable medium. \\nThose reports shall include periodic communications to clients, taking into account the type and the complexity of \\nfinancial instruments involved and the nature of the service provided to the client and shall include, where applicable, the \\ncosts associated with the transactions and services undertaken on behalf of the client.', metadata={})]}"
      ]
     },
     "execution_count": 37,
     "metadata": {},
     "output_type": "execute_result"
    },
    {
     "data": {
      "application/javascript": [
       "\n",
       "            setTimeout(function() {\n",
       "                var nbb_cell_id = 37;\n",
       "                var nbb_unformatted_code = \"result\";\n",
       "                var nbb_formatted_code = \"result\";\n",
       "                var nbb_cells = Jupyter.notebook.get_cells();\n",
       "                for (var i = 0; i < nbb_cells.length; ++i) {\n",
       "                    if (nbb_cells[i].input_prompt_number == nbb_cell_id) {\n",
       "                        if (nbb_cells[i].get_text() == nbb_unformatted_code) {\n",
       "                             nbb_cells[i].set_text(nbb_formatted_code);\n",
       "                        }\n",
       "                        break;\n",
       "                    }\n",
       "                }\n",
       "            }, 500);\n",
       "            "
      ],
      "text/plain": [
       "<IPython.core.display.Javascript object>"
      ]
     },
     "metadata": {},
     "output_type": "display_data"
    }
   ],
   "source": [
    "result"
   ]
  },
  {
   "cell_type": "markdown",
   "id": "c71a68a0",
   "metadata": {},
   "source": [
    "### `VectorstoreIndexCreator`\n",
    "Class that creates an index for a vector store. A vector store is a database that stores embeddings (i.e. numerical representations) of text data. The index is used to efficiently search for embeddings that are similar to a given query embedding."
   ]
  },
  {
   "cell_type": "code",
   "execution_count": 38,
   "id": "52491cb3",
   "metadata": {},
   "outputs": [
    {
     "name": "stderr",
     "output_type": "stream",
     "text": [
      "Using embedded DuckDB without persistence: data will be transient\n"
     ]
    },
    {
     "data": {
      "application/javascript": [
       "\n",
       "            setTimeout(function() {\n",
       "                var nbb_cell_id = 38;\n",
       "                var nbb_unformatted_code = \"# Create a searchable index of embeddings based on a set of input documents\\nindex = VectorstoreIndexCreator(\\n    # split the documents into chunks\\n    text_splitter=text_splitter,\\n    # select which embeddings we want to use\\n    embedding=embeddings,\\n    # use Chroma as the vectorestore to index and search embeddings\\n    vectorstore_cls=Chroma,\\n).from_loaders([loader])\";\n",
       "                var nbb_formatted_code = \"# Create a searchable index of embeddings based on a set of input documents\\nindex = VectorstoreIndexCreator(\\n    # split the documents into chunks\\n    text_splitter=text_splitter,\\n    # select which embeddings we want to use\\n    embedding=embeddings,\\n    # use Chroma as the vectorestore to index and search embeddings\\n    vectorstore_cls=Chroma,\\n).from_loaders([loader])\";\n",
       "                var nbb_cells = Jupyter.notebook.get_cells();\n",
       "                for (var i = 0; i < nbb_cells.length; ++i) {\n",
       "                    if (nbb_cells[i].input_prompt_number == nbb_cell_id) {\n",
       "                        if (nbb_cells[i].get_text() == nbb_unformatted_code) {\n",
       "                             nbb_cells[i].set_text(nbb_formatted_code);\n",
       "                        }\n",
       "                        break;\n",
       "                    }\n",
       "                }\n",
       "            }, 500);\n",
       "            "
      ],
      "text/plain": [
       "<IPython.core.display.Javascript object>"
      ]
     },
     "metadata": {},
     "output_type": "display_data"
    }
   ],
   "source": [
    "# Create a searchable index of embeddings based on a set of input documents\n",
    "index = VectorstoreIndexCreator(\n",
    "    # split the documents into chunks\n",
    "    text_splitter=text_splitter,\n",
    "    # select which embeddings we want to use\n",
    "    embedding=embeddings,\n",
    "    # use Chroma as the vectorestore to index and search embeddings\n",
    "    vectorstore_cls=Chroma,\n",
    ").from_loaders([loader])"
   ]
  },
  {
   "cell_type": "code",
   "execution_count": 39,
   "id": "99b79950",
   "metadata": {},
   "outputs": [
    {
     "data": {
      "text/plain": [
       "' This document is called \"Directive 2014/600/EU of the European Parliament and of the Council of 15 May 2014 on markets in financial instruments and amending Directive 2002/92/EC and Directive 2011/61/EU\".'"
      ]
     },
     "execution_count": 39,
     "metadata": {},
     "output_type": "execute_result"
    },
    {
     "data": {
      "application/javascript": [
       "\n",
       "            setTimeout(function() {\n",
       "                var nbb_cell_id = 39;\n",
       "                var nbb_unformatted_code = \"index.query(llm=llm, question=query, chain_type=\\\"stuff\\\")\";\n",
       "                var nbb_formatted_code = \"index.query(llm=llm, question=query, chain_type=\\\"stuff\\\")\";\n",
       "                var nbb_cells = Jupyter.notebook.get_cells();\n",
       "                for (var i = 0; i < nbb_cells.length; ++i) {\n",
       "                    if (nbb_cells[i].input_prompt_number == nbb_cell_id) {\n",
       "                        if (nbb_cells[i].get_text() == nbb_unformatted_code) {\n",
       "                             nbb_cells[i].set_text(nbb_formatted_code);\n",
       "                        }\n",
       "                        break;\n",
       "                    }\n",
       "                }\n",
       "            }, 500);\n",
       "            "
      ],
      "text/plain": [
       "<IPython.core.display.Javascript object>"
      ]
     },
     "metadata": {},
     "output_type": "display_data"
    }
   ],
   "source": [
    "index.query(llm=llm, question=query, chain_type=\"stuff\")"
   ]
  },
  {
   "cell_type": "markdown",
   "id": "79cf457a",
   "metadata": {},
   "source": [
    "### `ConversationalRetrievalChain`\n",
    "Class that implements a conversational retrieval pipeline. It retrieves relevant responses from a response database based on the input query, and uses a language model to rank the responses based on their relevance. It also incorporates feedback from the user to refine the search results."
   ]
  },
  {
   "cell_type": "markdown",
   "id": "1a4260b4",
   "metadata": {},
   "source": [
    "Conversation memory + RetrievalQAChain\n",
    "\n",
    "Allow for passing in chat history which can be used for follow up questions."
   ]
  },
  {
   "cell_type": "code",
   "execution_count": 40,
   "id": "85e9c746",
   "metadata": {},
   "outputs": [
    {
     "data": {
      "application/javascript": [
       "\n",
       "            setTimeout(function() {\n",
       "                var nbb_cell_id = 40;\n",
       "                var nbb_unformatted_code = \"# Create a chain to answer questions\\nqa = ConversationalRetrievalChain.from_llm(llm, retriever)\";\n",
       "                var nbb_formatted_code = \"# Create a chain to answer questions\\nqa = ConversationalRetrievalChain.from_llm(llm, retriever)\";\n",
       "                var nbb_cells = Jupyter.notebook.get_cells();\n",
       "                for (var i = 0; i < nbb_cells.length; ++i) {\n",
       "                    if (nbb_cells[i].input_prompt_number == nbb_cell_id) {\n",
       "                        if (nbb_cells[i].get_text() == nbb_unformatted_code) {\n",
       "                             nbb_cells[i].set_text(nbb_formatted_code);\n",
       "                        }\n",
       "                        break;\n",
       "                    }\n",
       "                }\n",
       "            }, 500);\n",
       "            "
      ],
      "text/plain": [
       "<IPython.core.display.Javascript object>"
      ]
     },
     "metadata": {},
     "output_type": "display_data"
    }
   ],
   "source": [
    "# Create a chain to answer questions\n",
    "qa = ConversationalRetrievalChain.from_llm(llm, retriever)"
   ]
  },
  {
   "cell_type": "code",
   "execution_count": 41,
   "id": "456c9f98",
   "metadata": {},
   "outputs": [
    {
     "data": {
      "application/javascript": [
       "\n",
       "            setTimeout(function() {\n",
       "                var nbb_cell_id = 41;\n",
       "                var nbb_unformatted_code = \"# Initializes an empty list which will be used to keep track of the chat history\\nchat_history = []\";\n",
       "                var nbb_formatted_code = \"# Initializes an empty list which will be used to keep track of the chat history\\nchat_history = []\";\n",
       "                var nbb_cells = Jupyter.notebook.get_cells();\n",
       "                for (var i = 0; i < nbb_cells.length; ++i) {\n",
       "                    if (nbb_cells[i].input_prompt_number == nbb_cell_id) {\n",
       "                        if (nbb_cells[i].get_text() == nbb_unformatted_code) {\n",
       "                             nbb_cells[i].set_text(nbb_formatted_code);\n",
       "                        }\n",
       "                        break;\n",
       "                    }\n",
       "                }\n",
       "            }, 500);\n",
       "            "
      ],
      "text/plain": [
       "<IPython.core.display.Javascript object>"
      ]
     },
     "metadata": {},
     "output_type": "display_data"
    }
   ],
   "source": [
    "# Initializes an empty list which will be used to keep track of the chat history\n",
    "chat_history = []"
   ]
  },
  {
   "cell_type": "code",
   "execution_count": 42,
   "id": "283b1e9a",
   "metadata": {},
   "outputs": [
    {
     "data": {
      "application/javascript": [
       "\n",
       "            setTimeout(function() {\n",
       "                var nbb_cell_id = 42;\n",
       "                var nbb_unformatted_code = \"result = qa({\\\"question\\\": query, \\\"chat_history\\\": chat_history})\";\n",
       "                var nbb_formatted_code = \"result = qa({\\\"question\\\": query, \\\"chat_history\\\": chat_history})\";\n",
       "                var nbb_cells = Jupyter.notebook.get_cells();\n",
       "                for (var i = 0; i < nbb_cells.length; ++i) {\n",
       "                    if (nbb_cells[i].input_prompt_number == nbb_cell_id) {\n",
       "                        if (nbb_cells[i].get_text() == nbb_unformatted_code) {\n",
       "                             nbb_cells[i].set_text(nbb_formatted_code);\n",
       "                        }\n",
       "                        break;\n",
       "                    }\n",
       "                }\n",
       "            }, 500);\n",
       "            "
      ],
      "text/plain": [
       "<IPython.core.display.Javascript object>"
      ]
     },
     "metadata": {},
     "output_type": "display_data"
    }
   ],
   "source": [
    "result = qa({\"question\": query, \"chat_history\": chat_history})"
   ]
  },
  {
   "cell_type": "code",
   "execution_count": 43,
   "id": "cd5b7cc6",
   "metadata": {},
   "outputs": [
    {
     "data": {
      "text/plain": [
       "\" I don't know.\""
      ]
     },
     "execution_count": 43,
     "metadata": {},
     "output_type": "execute_result"
    },
    {
     "data": {
      "application/javascript": [
       "\n",
       "            setTimeout(function() {\n",
       "                var nbb_cell_id = 43;\n",
       "                var nbb_unformatted_code = \"result[\\\"answer\\\"]\";\n",
       "                var nbb_formatted_code = \"result[\\\"answer\\\"]\";\n",
       "                var nbb_cells = Jupyter.notebook.get_cells();\n",
       "                for (var i = 0; i < nbb_cells.length; ++i) {\n",
       "                    if (nbb_cells[i].input_prompt_number == nbb_cell_id) {\n",
       "                        if (nbb_cells[i].get_text() == nbb_unformatted_code) {\n",
       "                             nbb_cells[i].set_text(nbb_formatted_code);\n",
       "                        }\n",
       "                        break;\n",
       "                    }\n",
       "                }\n",
       "            }, 500);\n",
       "            "
      ],
      "text/plain": [
       "<IPython.core.display.Javascript object>"
      ]
     },
     "metadata": {},
     "output_type": "display_data"
    }
   ],
   "source": [
    "result[\"answer\"]"
   ]
  },
  {
   "cell_type": "markdown",
   "id": "13e6a9c4",
   "metadata": {},
   "source": [
    "#### Prompt another question"
   ]
  },
  {
   "cell_type": "code",
   "execution_count": null,
   "id": "6c8a2ef7",
   "metadata": {},
   "outputs": [],
   "source": [
    "chat_history = [(query, result[\"answer\"])]\n",
    "query = \"What is this number divided by 2?\"\n",
    "result = qa({\"question\": query, \"chat_history\": chat_history})"
   ]
  },
  {
   "cell_type": "code",
   "execution_count": null,
   "id": "d109d92b",
   "metadata": {},
   "outputs": [],
   "source": [
    "chat_history"
   ]
  },
  {
   "cell_type": "code",
   "execution_count": null,
   "id": "44a00ef8",
   "metadata": {},
   "outputs": [],
   "source": [
    "result['answer']"
   ]
  }
 ],
 "metadata": {
  "kernelspec": {
   "display_name": "Python 3 (ipykernel)",
   "language": "python",
   "name": "python3"
  },
  "language_info": {
   "codemirror_mode": {
    "name": "ipython",
    "version": 3
   },
   "file_extension": ".py",
   "mimetype": "text/x-python",
   "name": "python",
   "nbconvert_exporter": "python",
   "pygments_lexer": "ipython3",
   "version": "3.10.10"
  }
 },
 "nbformat": 4,
 "nbformat_minor": 5
}
