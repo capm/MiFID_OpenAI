{
 "cells": [
  {
   "cell_type": "markdown",
   "id": "48315b02",
   "metadata": {},
   "source": [
    "## Code format"
   ]
  },
  {
   "cell_type": "code",
   "execution_count": 1,
   "id": "ea5c7f23",
   "metadata": {
    "ExecuteTime": {
     "end_time": "2023-04-17T09:46:16.773203Z",
     "start_time": "2023-04-17T09:46:16.623861Z"
    }
   },
   "outputs": [
    {
     "data": {
      "application/javascript": [
       "\n",
       "            setTimeout(function() {\n",
       "                var nbb_cell_id = 1;\n",
       "                var nbb_unformatted_code = \"# Code format\\n# For Jupyter Notebook:\\n%load_ext nb_black\\n# For Jupyter Lab:\\n# %load_ext lab_black\";\n",
       "                var nbb_formatted_code = \"# Code format\\n# For Jupyter Notebook:\\n%load_ext nb_black\\n# For Jupyter Lab:\\n# %load_ext lab_black\";\n",
       "                var nbb_cells = Jupyter.notebook.get_cells();\n",
       "                for (var i = 0; i < nbb_cells.length; ++i) {\n",
       "                    if (nbb_cells[i].input_prompt_number == nbb_cell_id) {\n",
       "                        if (nbb_cells[i].get_text() == nbb_unformatted_code) {\n",
       "                             nbb_cells[i].set_text(nbb_formatted_code);\n",
       "                        }\n",
       "                        break;\n",
       "                    }\n",
       "                }\n",
       "            }, 500);\n",
       "            "
      ],
      "text/plain": [
       "<IPython.core.display.Javascript object>"
      ]
     },
     "metadata": {},
     "output_type": "display_data"
    }
   ],
   "source": [
    "# Code format\n",
    "# For Jupyter Notebook:\n",
    "%load_ext nb_black\n",
    "# For Jupyter Lab:\n",
    "# %load_ext lab_black"
   ]
  },
  {
   "cell_type": "markdown",
   "id": "d44970dc",
   "metadata": {},
   "source": [
    "## Libraries"
   ]
  },
  {
   "cell_type": "code",
   "execution_count": 2,
   "id": "36028fd0",
   "metadata": {
    "ExecuteTime": {
     "end_time": "2023-04-17T09:46:17.687449Z",
     "start_time": "2023-04-17T09:46:17.670214Z"
    }
   },
   "outputs": [
    {
     "data": {
      "application/javascript": [
       "\n",
       "            setTimeout(function() {\n",
       "                var nbb_cell_id = 2;\n",
       "                var nbb_unformatted_code = \"# Functions for manipulating folders\\nimport os\\n\\n# Data management tools\\nimport pickle\\nimport json\";\n",
       "                var nbb_formatted_code = \"# Functions for manipulating folders\\nimport os\\n\\n# Data management tools\\nimport pickle\\nimport json\";\n",
       "                var nbb_cells = Jupyter.notebook.get_cells();\n",
       "                for (var i = 0; i < nbb_cells.length; ++i) {\n",
       "                    if (nbb_cells[i].input_prompt_number == nbb_cell_id) {\n",
       "                        if (nbb_cells[i].get_text() == nbb_unformatted_code) {\n",
       "                             nbb_cells[i].set_text(nbb_formatted_code);\n",
       "                        }\n",
       "                        break;\n",
       "                    }\n",
       "                }\n",
       "            }, 500);\n",
       "            "
      ],
      "text/plain": [
       "<IPython.core.display.Javascript object>"
      ]
     },
     "metadata": {},
     "output_type": "display_data"
    }
   ],
   "source": [
    "# Interacting with the operating system in a platform-independent way\n",
    "import os\n",
    "\n",
    "# Data management tools\n",
    "# Serialization and deserialization of Python objects\n",
    "import pickle\n",
    "import json"
   ]
  },
  {
   "cell_type": "code",
   "execution_count": 48,
   "id": "55542da2",
   "metadata": {
    "ExecuteTime": {
     "end_time": "2023-04-17T09:48:51.284201Z",
     "start_time": "2023-04-17T09:48:51.254696Z"
    }
   },
   "outputs": [
    {
     "data": {
      "application/javascript": [
       "\n",
       "            setTimeout(function() {\n",
       "                var nbb_cell_id = 48;\n",
       "                var nbb_unformatted_code = \"# Libraries and classes that allow the user to access and manipulate text data from different sources\\nfrom langchain.document_loaders import (\\n    UnstructuredPDFLoader,\\n    OnlinePDFLoader,\\n    UnstructuredFileLoader,\\n)\\nfrom langchain.text_splitter import RecursiveCharacterTextSplitter\\nfrom langchain.text_splitter import CharacterTextSplitter\\n\\n#\\nfrom PyPDF2 import PdfReader\\n\\n# Libraries to authenticate with both Pinecone and OpenAI API\\n# from langchain.vectorstores import Chroma, Pinecone\\n# from langchain.vectorstores.faiss import FAISS\\nfrom langchain.vectorstores import ElasticVectorSearch, Pinecone, Weaviate, FAISS\\n\\n# from langchain.embeddings.openai import OpenAIEmbeddings\\n#from langchain.embeddings import OpenAIEmbeddings\\nfrom langchain.embeddings.openai import OpenAIEmbeddings\\n\\n# Import external vector database library\\nimport pinecone\\n\\n# Wrapper around OpenAI APIs\\nfrom langchain.llms import OpenAI\\n\\n# Load question answering chain\\nfrom langchain.chains.question_answering import load_qa_chain\\nfrom langchain.prompts.prompt import PromptTemplate\\nfrom langchain.chains import ChatVectorDBChain\";\n",
       "                var nbb_formatted_code = \"# Libraries and classes that allow the user to access and manipulate text data from different sources\\nfrom langchain.document_loaders import (\\n    UnstructuredPDFLoader,\\n    OnlinePDFLoader,\\n    UnstructuredFileLoader,\\n)\\nfrom langchain.text_splitter import RecursiveCharacterTextSplitter\\nfrom langchain.text_splitter import CharacterTextSplitter\\n\\n#\\nfrom PyPDF2 import PdfReader\\n\\n# Libraries to authenticate with both Pinecone and OpenAI API\\n# from langchain.vectorstores import Chroma, Pinecone\\n# from langchain.vectorstores.faiss import FAISS\\nfrom langchain.vectorstores import ElasticVectorSearch, Pinecone, Weaviate, FAISS\\n\\n# from langchain.embeddings.openai import OpenAIEmbeddings\\n# from langchain.embeddings import OpenAIEmbeddings\\nfrom langchain.embeddings.openai import OpenAIEmbeddings\\n\\n# Import external vector database library\\nimport pinecone\\n\\n# Wrapper around OpenAI APIs\\nfrom langchain.llms import OpenAI\\n\\n# Load question answering chain\\nfrom langchain.chains.question_answering import load_qa_chain\\nfrom langchain.prompts.prompt import PromptTemplate\\nfrom langchain.chains import ChatVectorDBChain\";\n",
       "                var nbb_cells = Jupyter.notebook.get_cells();\n",
       "                for (var i = 0; i < nbb_cells.length; ++i) {\n",
       "                    if (nbb_cells[i].input_prompt_number == nbb_cell_id) {\n",
       "                        if (nbb_cells[i].get_text() == nbb_unformatted_code) {\n",
       "                             nbb_cells[i].set_text(nbb_formatted_code);\n",
       "                        }\n",
       "                        break;\n",
       "                    }\n",
       "                }\n",
       "            }, 500);\n",
       "            "
      ],
      "text/plain": [
       "<IPython.core.display.Javascript object>"
      ]
     },
     "metadata": {},
     "output_type": "display_data"
    }
   ],
   "source": [
    "# Libraries and classes to load and parse different types of text data\n",
    "from langchain.document_loaders import (\n",
    "    UnstructuredPDFLoader,\n",
    "    OnlinePDFLoader,\n",
    "    UnstructuredFileLoader,\n",
    ")\n",
    "\n",
    "# Tools for splitting text into smaller chunks for further processing\n",
    "from langchain.text_splitter import RecursiveCharacterTextSplitter\n",
    "from langchain.text_splitter import CharacterTextSplitter\n",
    "\n",
    "# Class used for reading and manipulating PDF files\n",
    "from PyPDF2 import PdfReader\n",
    "\n",
    "# Tools for working with vector databases, including authentication with the Pinecone and OpenAI APIs\n",
    "# from langchain.vectorstores import Chroma, Pinecone\n",
    "# from langchain.vectorstores.faiss import FAISS\n",
    "from langchain.vectorstores import ElasticVectorSearch, Pinecone, Weaviate, FAISS\n",
    "\n",
    "# Tools for working with OpenAI's GPT-3 language model\n",
    "# from langchain.embeddings import OpenAIEmbeddings\n",
    "from langchain.embeddings.openai import OpenAIEmbeddings\n",
    "\n",
    "# Import external vector database library\n",
    "import pinecone\n",
    "\n",
    "# Wrapper around OpenAI's API and provides tools for interacting with OpenAI's GPT-3 language model\n",
    "from langchain.llms import OpenAI\n",
    "\n",
    "# Tools for building and running natural language processing (NLP) chains for question answering, generating text prompts\n",
    "# Load question answering chain\n",
    "from langchain.chains.question_answering import load_qa_chain\n",
    "from langchain.prompts.prompt import PromptTemplate\n",
    "from langchain.chains import ChatVectorDBChain"
   ]
  },
  {
   "cell_type": "markdown",
   "id": "0e25efd3",
   "metadata": {},
   "source": [
    "## Variables"
   ]
  },
  {
   "cell_type": "code",
   "execution_count": 4,
   "id": "de8c2ccb",
   "metadata": {},
   "outputs": [
    {
     "data": {
      "application/javascript": [
       "\n",
       "            setTimeout(function() {\n",
       "                var nbb_cell_id = 4;\n",
       "                var nbb_unformatted_code = \"# Folder paths\\nstr_folder_credentials = \\\"credentials/\\\"\\nstr_folder_sources = \\\"sources/\\\"\\nstr_folder_outputs = \\\"outputs/\\\"\";\n",
       "                var nbb_formatted_code = \"# Folder paths\\nstr_folder_credentials = \\\"credentials/\\\"\\nstr_folder_sources = \\\"sources/\\\"\\nstr_folder_outputs = \\\"outputs/\\\"\";\n",
       "                var nbb_cells = Jupyter.notebook.get_cells();\n",
       "                for (var i = 0; i < nbb_cells.length; ++i) {\n",
       "                    if (nbb_cells[i].input_prompt_number == nbb_cell_id) {\n",
       "                        if (nbb_cells[i].get_text() == nbb_unformatted_code) {\n",
       "                             nbb_cells[i].set_text(nbb_formatted_code);\n",
       "                        }\n",
       "                        break;\n",
       "                    }\n",
       "                }\n",
       "            }, 500);\n",
       "            "
      ],
      "text/plain": [
       "<IPython.core.display.Javascript object>"
      ]
     },
     "metadata": {},
     "output_type": "display_data"
    }
   ],
   "source": [
    "# Folder paths\n",
    "str_folder_credentials = \"credentials/\"\n",
    "str_folder_sources = \"sources/\"\n",
    "str_folder_outputs = \"outputs/\""
   ]
  },
  {
   "cell_type": "code",
   "execution_count": 5,
   "id": "7a0fc60b",
   "metadata": {},
   "outputs": [
    {
     "data": {
      "text/plain": [
       "['Cap 571H.pdf', 'counter.pdf', 'mifid2.pdf', 'Prospectiva.pdf']"
      ]
     },
     "execution_count": 5,
     "metadata": {},
     "output_type": "execute_result"
    },
    {
     "data": {
      "application/javascript": [
       "\n",
       "            setTimeout(function() {\n",
       "                var nbb_cell_id = 5;\n",
       "                var nbb_unformatted_code = \"# File names\\nlst_pdfs = [x for x in os.listdir(str_folder_sources) if x.endswith(\\\".pdf\\\")]\\nlst_pdfs\";\n",
       "                var nbb_formatted_code = \"# File names\\nlst_pdfs = [x for x in os.listdir(str_folder_sources) if x.endswith(\\\".pdf\\\")]\\nlst_pdfs\";\n",
       "                var nbb_cells = Jupyter.notebook.get_cells();\n",
       "                for (var i = 0; i < nbb_cells.length; ++i) {\n",
       "                    if (nbb_cells[i].input_prompt_number == nbb_cell_id) {\n",
       "                        if (nbb_cells[i].get_text() == nbb_unformatted_code) {\n",
       "                             nbb_cells[i].set_text(nbb_formatted_code);\n",
       "                        }\n",
       "                        break;\n",
       "                    }\n",
       "                }\n",
       "            }, 500);\n",
       "            "
      ],
      "text/plain": [
       "<IPython.core.display.Javascript object>"
      ]
     },
     "metadata": {},
     "output_type": "display_data"
    }
   ],
   "source": [
    "# File names\n",
    "lst_pdfs = [x for x in os.listdir(str_folder_sources) if x.endswith(\".pdf\")]\n",
    "lst_pdfs"
   ]
  },
  {
   "cell_type": "code",
   "execution_count": 6,
   "id": "c67db206",
   "metadata": {},
   "outputs": [
    {
     "data": {
      "application/javascript": [
       "\n",
       "            setTimeout(function() {\n",
       "                var nbb_cell_id = 6;\n",
       "                var nbb_unformatted_code = \"# Filename, with and without extension\\nsrt_filename = lst_pdfs[2]\\nsrt_filename_next = srt_filename.split(\\\".\\\")[0]\";\n",
       "                var nbb_formatted_code = \"# Filename, with and without extension\\nsrt_filename = lst_pdfs[2]\\nsrt_filename_next = srt_filename.split(\\\".\\\")[0]\";\n",
       "                var nbb_cells = Jupyter.notebook.get_cells();\n",
       "                for (var i = 0; i < nbb_cells.length; ++i) {\n",
       "                    if (nbb_cells[i].input_prompt_number == nbb_cell_id) {\n",
       "                        if (nbb_cells[i].get_text() == nbb_unformatted_code) {\n",
       "                             nbb_cells[i].set_text(nbb_formatted_code);\n",
       "                        }\n",
       "                        break;\n",
       "                    }\n",
       "                }\n",
       "            }, 500);\n",
       "            "
      ],
      "text/plain": [
       "<IPython.core.display.Javascript object>"
      ]
     },
     "metadata": {},
     "output_type": "display_data"
    }
   ],
   "source": [
    "# Filename, with and without extension\n",
    "srt_filename = lst_pdfs[2]\n",
    "srt_filename_next = srt_filename.split(\".\")[0]"
   ]
  },
  {
   "cell_type": "code",
   "execution_count": 13,
   "id": "e454c6a4",
   "metadata": {},
   "outputs": [
    {
     "data": {
      "text/plain": [
       "'mifid2.pdf'"
      ]
     },
     "execution_count": 13,
     "metadata": {},
     "output_type": "execute_result"
    },
    {
     "data": {
      "application/javascript": [
       "\n",
       "            setTimeout(function() {\n",
       "                var nbb_cell_id = 13;\n",
       "                var nbb_unformatted_code = \"srt_filename\";\n",
       "                var nbb_formatted_code = \"srt_filename\";\n",
       "                var nbb_cells = Jupyter.notebook.get_cells();\n",
       "                for (var i = 0; i < nbb_cells.length; ++i) {\n",
       "                    if (nbb_cells[i].input_prompt_number == nbb_cell_id) {\n",
       "                        if (nbb_cells[i].get_text() == nbb_unformatted_code) {\n",
       "                             nbb_cells[i].set_text(nbb_formatted_code);\n",
       "                        }\n",
       "                        break;\n",
       "                    }\n",
       "                }\n",
       "            }, 500);\n",
       "            "
      ],
      "text/plain": [
       "<IPython.core.display.Javascript object>"
      ]
     },
     "metadata": {},
     "output_type": "display_data"
    }
   ],
   "source": [
    "srt_filename"
   ]
  },
  {
   "cell_type": "code",
   "execution_count": 15,
   "id": "0aa3ec0e",
   "metadata": {},
   "outputs": [
    {
     "data": {
      "application/javascript": [
       "\n",
       "            setTimeout(function() {\n",
       "                var nbb_cell_id = 15;\n",
       "                var nbb_unformatted_code = \"# Filename and folders\\nstr_path_input = str_folder_sources + srt_filename\\nstr_path_output = str_folder_outputs + srt_filename_next + \\\".pkl\\\"\";\n",
       "                var nbb_formatted_code = \"# Filename and folders\\nstr_path_input = str_folder_sources + srt_filename\\nstr_path_output = str_folder_outputs + srt_filename_next + \\\".pkl\\\"\";\n",
       "                var nbb_cells = Jupyter.notebook.get_cells();\n",
       "                for (var i = 0; i < nbb_cells.length; ++i) {\n",
       "                    if (nbb_cells[i].input_prompt_number == nbb_cell_id) {\n",
       "                        if (nbb_cells[i].get_text() == nbb_unformatted_code) {\n",
       "                             nbb_cells[i].set_text(nbb_formatted_code);\n",
       "                        }\n",
       "                        break;\n",
       "                    }\n",
       "                }\n",
       "            }, 500);\n",
       "            "
      ],
      "text/plain": [
       "<IPython.core.display.Javascript object>"
      ]
     },
     "metadata": {},
     "output_type": "display_data"
    }
   ],
   "source": [
    "# Filename and folders\n",
    "str_path_input = str_folder_sources + srt_filename\n",
    "str_path_output = str_folder_outputs + srt_filename_next + \".pkl\""
   ]
  },
  {
   "cell_type": "code",
   "execution_count": 16,
   "id": "a392e3d5",
   "metadata": {},
   "outputs": [
    {
     "data": {
      "text/plain": [
       "('sources/mifid2.pdf', 'outputs/mifid2.pkl')"
      ]
     },
     "execution_count": 16,
     "metadata": {},
     "output_type": "execute_result"
    },
    {
     "data": {
      "application/javascript": [
       "\n",
       "            setTimeout(function() {\n",
       "                var nbb_cell_id = 16;\n",
       "                var nbb_unformatted_code = \"str_path_input, str_path_output\";\n",
       "                var nbb_formatted_code = \"str_path_input, str_path_output\";\n",
       "                var nbb_cells = Jupyter.notebook.get_cells();\n",
       "                for (var i = 0; i < nbb_cells.length; ++i) {\n",
       "                    if (nbb_cells[i].input_prompt_number == nbb_cell_id) {\n",
       "                        if (nbb_cells[i].get_text() == nbb_unformatted_code) {\n",
       "                             nbb_cells[i].set_text(nbb_formatted_code);\n",
       "                        }\n",
       "                        break;\n",
       "                    }\n",
       "                }\n",
       "            }, 500);\n",
       "            "
      ],
      "text/plain": [
       "<IPython.core.display.Javascript object>"
      ]
     },
     "metadata": {},
     "output_type": "display_data"
    }
   ],
   "source": [
    "str_path_input, str_path_output"
   ]
  },
  {
   "cell_type": "markdown",
   "id": "383b13fa",
   "metadata": {},
   "source": [
    "### Pinecone and OpenAI"
   ]
  },
  {
   "cell_type": "code",
   "execution_count": 8,
   "id": "972973c6",
   "metadata": {},
   "outputs": [
    {
     "data": {
      "application/javascript": [
       "\n",
       "            setTimeout(function() {\n",
       "                var nbb_cell_id = 8;\n",
       "                var nbb_unformatted_code = \"# Load credentials\\n# Create dictionary to store credentials\\nlst_cred = {}\\n# Loop through folder and load json file with credentials\\nfor x in [x for x in os.listdir(str_folder_credentials)]:\\n    lst_cred[x.split(\\\".\\\")[0]] = json.load(open(str_folder_credentials + x, \\\"r\\\"))\";\n",
       "                var nbb_formatted_code = \"# Load credentials\\n# Create dictionary to store credentials\\nlst_cred = {}\\n# Loop through folder and load json file with credentials\\nfor x in [x for x in os.listdir(str_folder_credentials)]:\\n    lst_cred[x.split(\\\".\\\")[0]] = json.load(open(str_folder_credentials + x, \\\"r\\\"))\";\n",
       "                var nbb_cells = Jupyter.notebook.get_cells();\n",
       "                for (var i = 0; i < nbb_cells.length; ++i) {\n",
       "                    if (nbb_cells[i].input_prompt_number == nbb_cell_id) {\n",
       "                        if (nbb_cells[i].get_text() == nbb_unformatted_code) {\n",
       "                             nbb_cells[i].set_text(nbb_formatted_code);\n",
       "                        }\n",
       "                        break;\n",
       "                    }\n",
       "                }\n",
       "            }, 500);\n",
       "            "
      ],
      "text/plain": [
       "<IPython.core.display.Javascript object>"
      ]
     },
     "metadata": {},
     "output_type": "display_data"
    }
   ],
   "source": [
    "# Load credentials\n",
    "# Create dictionary to store credentials\n",
    "lst_cred = {}\n",
    "# Loop through folder and load json file with credentials\n",
    "for x in [x for x in os.listdir(str_folder_credentials)]:\n",
    "    lst_cred[x.split(\".\")[0]] = json.load(open(str_folder_credentials + x, \"r\"))"
   ]
  },
  {
   "cell_type": "code",
   "execution_count": 9,
   "id": "75d8af1c",
   "metadata": {},
   "outputs": [
    {
     "data": {
      "application/javascript": [
       "\n",
       "            setTimeout(function() {\n",
       "                var nbb_cell_id = 9;\n",
       "                var nbb_unformatted_code = \"OPENAI_API_KEY = lst_cred[\\\"yahoo\\\"][\\\"OPENAI_API_KEY\\\"]\\nPINECONE_API_KEY = lst_cred[\\\"mail\\\"][\\\"PINECONE_API_KEY\\\"]\\nPINECONE_API_ENV = lst_cred[\\\"yahoo\\\"][\\\"PINECONE_API_ENV\\\"]\";\n",
       "                var nbb_formatted_code = \"OPENAI_API_KEY = lst_cred[\\\"yahoo\\\"][\\\"OPENAI_API_KEY\\\"]\\nPINECONE_API_KEY = lst_cred[\\\"mail\\\"][\\\"PINECONE_API_KEY\\\"]\\nPINECONE_API_ENV = lst_cred[\\\"yahoo\\\"][\\\"PINECONE_API_ENV\\\"]\";\n",
       "                var nbb_cells = Jupyter.notebook.get_cells();\n",
       "                for (var i = 0; i < nbb_cells.length; ++i) {\n",
       "                    if (nbb_cells[i].input_prompt_number == nbb_cell_id) {\n",
       "                        if (nbb_cells[i].get_text() == nbb_unformatted_code) {\n",
       "                             nbb_cells[i].set_text(nbb_formatted_code);\n",
       "                        }\n",
       "                        break;\n",
       "                    }\n",
       "                }\n",
       "            }, 500);\n",
       "            "
      ],
      "text/plain": [
       "<IPython.core.display.Javascript object>"
      ]
     },
     "metadata": {},
     "output_type": "display_data"
    }
   ],
   "source": [
    "OPENAI_API_KEY = lst_cred[\"yahoo\"][\"OPENAI_API_KEY\"]\n",
    "PINECONE_API_KEY = lst_cred[\"mail\"][\"PINECONE_API_KEY\"]\n",
    "PINECONE_API_ENV = lst_cred[\"yahoo\"][\"PINECONE_API_ENV\"]"
   ]
  },
  {
   "cell_type": "markdown",
   "id": "4cb80f78",
   "metadata": {},
   "source": [
    "## Ingestion of data"
   ]
  },
  {
   "cell_type": "markdown",
   "id": "58b8add5",
   "metadata": {},
   "source": [
    "### Using `UnstructuredPDFLoader`"
   ]
  },
  {
   "cell_type": "code",
   "execution_count": 10,
   "id": "eb33ac74",
   "metadata": {},
   "outputs": [
    {
     "data": {
      "application/javascript": [
       "\n",
       "            setTimeout(function() {\n",
       "                var nbb_cell_id = 10;\n",
       "                var nbb_unformatted_code = \"loader = UnstructuredPDFLoader(str_path_input)\";\n",
       "                var nbb_formatted_code = \"loader = UnstructuredPDFLoader(str_path_input)\";\n",
       "                var nbb_cells = Jupyter.notebook.get_cells();\n",
       "                for (var i = 0; i < nbb_cells.length; ++i) {\n",
       "                    if (nbb_cells[i].input_prompt_number == nbb_cell_id) {\n",
       "                        if (nbb_cells[i].get_text() == nbb_unformatted_code) {\n",
       "                             nbb_cells[i].set_text(nbb_formatted_code);\n",
       "                        }\n",
       "                        break;\n",
       "                    }\n",
       "                }\n",
       "            }, 500);\n",
       "            "
      ],
      "text/plain": [
       "<IPython.core.display.Javascript object>"
      ]
     },
     "metadata": {},
     "output_type": "display_data"
    }
   ],
   "source": [
    "loader = UnstructuredPDFLoader(str_path_input)"
   ]
  },
  {
   "cell_type": "code",
   "execution_count": 11,
   "id": "96cff2ba",
   "metadata": {},
   "outputs": [
    {
     "data": {
      "application/vnd.jupyter.widget-view+json": {
       "model_id": "4d79d3f4451b4279b046e39dd59a7570",
       "version_major": 2,
       "version_minor": 0
      },
      "text/plain": [
       "Downloading model_final.pth:   0%|          | 0.00/330M [00:00<?, ?B/s]"
      ]
     },
     "metadata": {},
     "output_type": "display_data"
    },
    {
     "data": {
      "application/vnd.jupyter.widget-view+json": {
       "model_id": "ca425df5f37e4429b3d493cc704eb165",
       "version_major": 2,
       "version_minor": 0
      },
      "text/plain": [
       "Downloading (…)50_FPN_3x/config.yml:   0%|          | 0.00/5.37k [00:00<?, ?B/s]"
      ]
     },
     "metadata": {},
     "output_type": "display_data"
    },
    {
     "data": {
      "application/javascript": [
       "\n",
       "            setTimeout(function() {\n",
       "                var nbb_cell_id = 11;\n",
       "                var nbb_unformatted_code = \"data = loader.load()\";\n",
       "                var nbb_formatted_code = \"data = loader.load()\";\n",
       "                var nbb_cells = Jupyter.notebook.get_cells();\n",
       "                for (var i = 0; i < nbb_cells.length; ++i) {\n",
       "                    if (nbb_cells[i].input_prompt_number == nbb_cell_id) {\n",
       "                        if (nbb_cells[i].get_text() == nbb_unformatted_code) {\n",
       "                             nbb_cells[i].set_text(nbb_formatted_code);\n",
       "                        }\n",
       "                        break;\n",
       "                    }\n",
       "                }\n",
       "            }, 500);\n",
       "            "
      ],
      "text/plain": [
       "<IPython.core.display.Javascript object>"
      ]
     },
     "metadata": {},
     "output_type": "display_data"
    }
   ],
   "source": [
    "data = loader.load()"
   ]
  },
  {
   "cell_type": "code",
   "execution_count": 12,
   "id": "f8ea6bbb",
   "metadata": {},
   "outputs": [
    {
     "name": "stdout",
     "output_type": "stream",
     "text": [
      "You have 1 document(s) in your data\n",
      "There are 578567 characters in your document\n"
     ]
    },
    {
     "data": {
      "application/javascript": [
       "\n",
       "            setTimeout(function() {\n",
       "                var nbb_cell_id = 12;\n",
       "                var nbb_unformatted_code = \"# Display the number of characters in the first document\\u2019s page content\\nprint(f\\\"You have {len(data)} document(s) in your data\\\")\\nprint(f\\\"There are {len(data[0].page_content)} characters in your document\\\")\";\n",
       "                var nbb_formatted_code = \"# Display the number of characters in the first document\\u2019s page content\\nprint(f\\\"You have {len(data)} document(s) in your data\\\")\\nprint(f\\\"There are {len(data[0].page_content)} characters in your document\\\")\";\n",
       "                var nbb_cells = Jupyter.notebook.get_cells();\n",
       "                for (var i = 0; i < nbb_cells.length; ++i) {\n",
       "                    if (nbb_cells[i].input_prompt_number == nbb_cell_id) {\n",
       "                        if (nbb_cells[i].get_text() == nbb_unformatted_code) {\n",
       "                             nbb_cells[i].set_text(nbb_formatted_code);\n",
       "                        }\n",
       "                        break;\n",
       "                    }\n",
       "                }\n",
       "            }, 500);\n",
       "            "
      ],
      "text/plain": [
       "<IPython.core.display.Javascript object>"
      ]
     },
     "metadata": {},
     "output_type": "display_data"
    }
   ],
   "source": [
    "# Display the number of characters in the first document’s page content\n",
    "print(f\"You have {len(data)} document(s) in your data\")\n",
    "print(f\"There are {len(data[0].page_content)} characters in your document\")"
   ]
  },
  {
   "cell_type": "markdown",
   "id": "5d595db3",
   "metadata": {},
   "source": [
    "### Using `PyPDF`"
   ]
  },
  {
   "cell_type": "code",
   "execution_count": 43,
   "id": "1cff2999",
   "metadata": {},
   "outputs": [
    {
     "data": {
      "application/javascript": [
       "\n",
       "            setTimeout(function() {\n",
       "                var nbb_cell_id = 43;\n",
       "                var nbb_unformatted_code = \"data = PdfReader(str_path_input)\";\n",
       "                var nbb_formatted_code = \"data = PdfReader(str_path_input)\";\n",
       "                var nbb_cells = Jupyter.notebook.get_cells();\n",
       "                for (var i = 0; i < nbb_cells.length; ++i) {\n",
       "                    if (nbb_cells[i].input_prompt_number == nbb_cell_id) {\n",
       "                        if (nbb_cells[i].get_text() == nbb_unformatted_code) {\n",
       "                             nbb_cells[i].set_text(nbb_formatted_code);\n",
       "                        }\n",
       "                        break;\n",
       "                    }\n",
       "                }\n",
       "            }, 500);\n",
       "            "
      ],
      "text/plain": [
       "<IPython.core.display.Javascript object>"
      ]
     },
     "metadata": {},
     "output_type": "display_data"
    }
   ],
   "source": [
    "data = PdfReader(str_path_input)"
   ]
  },
  {
   "cell_type": "code",
   "execution_count": 45,
   "id": "9127e324",
   "metadata": {},
   "outputs": [
    {
     "data": {
      "application/javascript": [
       "\n",
       "            setTimeout(function() {\n",
       "                var nbb_cell_id = 45;\n",
       "                var nbb_unformatted_code = \"# read data from the file and put them into a variable called raw_text\\nraw_text = \\\"\\\"\\nfor i, page in enumerate(data.pages):\\n    text = page.extract_text()\\n    if text:\\n        raw_text += text\";\n",
       "                var nbb_formatted_code = \"# read data from the file and put them into a variable called raw_text\\nraw_text = \\\"\\\"\\nfor i, page in enumerate(data.pages):\\n    text = page.extract_text()\\n    if text:\\n        raw_text += text\";\n",
       "                var nbb_cells = Jupyter.notebook.get_cells();\n",
       "                for (var i = 0; i < nbb_cells.length; ++i) {\n",
       "                    if (nbb_cells[i].input_prompt_number == nbb_cell_id) {\n",
       "                        if (nbb_cells[i].get_text() == nbb_unformatted_code) {\n",
       "                             nbb_cells[i].set_text(nbb_formatted_code);\n",
       "                        }\n",
       "                        break;\n",
       "                    }\n",
       "                }\n",
       "            }, 500);\n",
       "            "
      ],
      "text/plain": [
       "<IPython.core.display.Javascript object>"
      ]
     },
     "metadata": {},
     "output_type": "display_data"
    }
   ],
   "source": [
    "# read data from the file and put them into a variable called raw_text\n",
    "raw_text = \"\"\n",
    "for i, page in enumerate(data.pages):\n",
    "    text = page.extract_text()\n",
    "    if text:\n",
    "        raw_text += text"
   ]
  },
  {
   "cell_type": "markdown",
   "id": "5c907f00",
   "metadata": {},
   "source": [
    "### Split text"
   ]
  },
  {
   "cell_type": "code",
   "execution_count": 17,
   "id": "ea811847",
   "metadata": {},
   "outputs": [
    {
     "data": {
      "application/javascript": [
       "\n",
       "            setTimeout(function() {\n",
       "                var nbb_cell_id = 17;\n",
       "                var nbb_unformatted_code = \"# Chunk your data up into smaller documents\\n# Split Book into Smaller Chunks\\ntext_splitter = RecursiveCharacterTextSplitter(chunk_size=1000, chunk_overlap=250)\\ntexts = text_splitter.split_documents(data)\";\n",
       "                var nbb_formatted_code = \"# Chunk your data up into smaller documents\\n# Split Book into Smaller Chunks\\ntext_splitter = RecursiveCharacterTextSplitter(chunk_size=1000, chunk_overlap=250)\\ntexts = text_splitter.split_documents(data)\";\n",
       "                var nbb_cells = Jupyter.notebook.get_cells();\n",
       "                for (var i = 0; i < nbb_cells.length; ++i) {\n",
       "                    if (nbb_cells[i].input_prompt_number == nbb_cell_id) {\n",
       "                        if (nbb_cells[i].get_text() == nbb_unformatted_code) {\n",
       "                             nbb_cells[i].set_text(nbb_formatted_code);\n",
       "                        }\n",
       "                        break;\n",
       "                    }\n",
       "                }\n",
       "            }, 500);\n",
       "            "
      ],
      "text/plain": [
       "<IPython.core.display.Javascript object>"
      ]
     },
     "metadata": {},
     "output_type": "display_data"
    }
   ],
   "source": [
    "# Chunk your data up into smaller documents\n",
    "# Split Book into Smaller Chunks\n",
    "text_splitter = RecursiveCharacterTextSplitter(chunk_size=1000, chunk_overlap=250)\n",
    "texts = text_splitter.split_documents(data)"
   ]
  },
  {
   "cell_type": "code",
   "execution_count": 46,
   "id": "67c0d332",
   "metadata": {},
   "outputs": [
    {
     "data": {
      "application/javascript": [
       "\n",
       "            setTimeout(function() {\n",
       "                var nbb_cell_id = 46;\n",
       "                var nbb_unformatted_code = \"# We need to split the text that we read into smaller chunks so that during information retreival we don't hit the token size limits\\ntext_splitter = CharacterTextSplitter(\\n    separator=\\\"\\\\n\\\",\\n    chunk_size=1000,\\n    chunk_overlap=200,\\n    length_function=len,\\n)\\ntexts = text_splitter.split_text(raw_text)\";\n",
       "                var nbb_formatted_code = \"# We need to split the text that we read into smaller chunks so that during information retreival we don't hit the token size limits\\ntext_splitter = CharacterTextSplitter(\\n    separator=\\\"\\\\n\\\",\\n    chunk_size=1000,\\n    chunk_overlap=200,\\n    length_function=len,\\n)\\ntexts = text_splitter.split_text(raw_text)\";\n",
       "                var nbb_cells = Jupyter.notebook.get_cells();\n",
       "                for (var i = 0; i < nbb_cells.length; ++i) {\n",
       "                    if (nbb_cells[i].input_prompt_number == nbb_cell_id) {\n",
       "                        if (nbb_cells[i].get_text() == nbb_unformatted_code) {\n",
       "                             nbb_cells[i].set_text(nbb_formatted_code);\n",
       "                        }\n",
       "                        break;\n",
       "                    }\n",
       "                }\n",
       "            }, 500);\n",
       "            "
      ],
      "text/plain": [
       "<IPython.core.display.Javascript object>"
      ]
     },
     "metadata": {},
     "output_type": "display_data"
    }
   ],
   "source": [
    "# We need to split the text that we read into smaller chunks so that during information retreival we don't hit the token size limits\n",
    "text_splitter = CharacterTextSplitter(\n",
    "    separator=\"\\n\",\n",
    "    chunk_size=1000,\n",
    "    chunk_overlap=200,\n",
    "    length_function=len,\n",
    ")\n",
    "texts = text_splitter.split_text(raw_text)"
   ]
  },
  {
   "cell_type": "code",
   "execution_count": 47,
   "id": "6348c6ca",
   "metadata": {},
   "outputs": [
    {
     "name": "stdout",
     "output_type": "stream",
     "text": [
      "Now you have 627 documents\n"
     ]
    },
    {
     "data": {
      "application/javascript": [
       "\n",
       "            setTimeout(function() {\n",
       "                var nbb_cell_id = 47;\n",
       "                var nbb_unformatted_code = \"print(f\\\"Now you have {len(texts)} documents\\\")\";\n",
       "                var nbb_formatted_code = \"print(f\\\"Now you have {len(texts)} documents\\\")\";\n",
       "                var nbb_cells = Jupyter.notebook.get_cells();\n",
       "                for (var i = 0; i < nbb_cells.length; ++i) {\n",
       "                    if (nbb_cells[i].input_prompt_number == nbb_cell_id) {\n",
       "                        if (nbb_cells[i].get_text() == nbb_unformatted_code) {\n",
       "                             nbb_cells[i].set_text(nbb_formatted_code);\n",
       "                        }\n",
       "                        break;\n",
       "                    }\n",
       "                }\n",
       "            }, 500);\n",
       "            "
      ],
      "text/plain": [
       "<IPython.core.display.Javascript object>"
      ]
     },
     "metadata": {},
     "output_type": "display_data"
    }
   ],
   "source": [
    "print(f\"Now you have {len(texts)} documents\")"
   ]
  },
  {
   "cell_type": "markdown",
   "id": "c16a38f3",
   "metadata": {},
   "source": [
    "### Create embeddings and store them"
   ]
  },
  {
   "cell_type": "code",
   "execution_count": 19,
   "id": "d1f1e565",
   "metadata": {},
   "outputs": [
    {
     "data": {
      "application/javascript": [
       "\n",
       "            setTimeout(function() {\n",
       "                var nbb_cell_id = 19;\n",
       "                var nbb_unformatted_code = \"# Create embeddings of your documents to get ready for semantic search\\n# Wrapper around OpenAI embedding models\\n# Load Data to vectorstore (for local storage)\\nembeddings = OpenAIEmbeddings(openai_api_key=OPENAI_API_KEY)\\nvectorstore = FAISS.from_documents(texts, embeddings)\";\n",
       "                var nbb_formatted_code = \"# Create embeddings of your documents to get ready for semantic search\\n# Wrapper around OpenAI embedding models\\n# Load Data to vectorstore (for local storage)\\nembeddings = OpenAIEmbeddings(openai_api_key=OPENAI_API_KEY)\\nvectorstore = FAISS.from_documents(texts, embeddings)\";\n",
       "                var nbb_cells = Jupyter.notebook.get_cells();\n",
       "                for (var i = 0; i < nbb_cells.length; ++i) {\n",
       "                    if (nbb_cells[i].input_prompt_number == nbb_cell_id) {\n",
       "                        if (nbb_cells[i].get_text() == nbb_unformatted_code) {\n",
       "                             nbb_cells[i].set_text(nbb_formatted_code);\n",
       "                        }\n",
       "                        break;\n",
       "                    }\n",
       "                }\n",
       "            }, 500);\n",
       "            "
      ],
      "text/plain": [
       "<IPython.core.display.Javascript object>"
      ]
     },
     "metadata": {},
     "output_type": "display_data"
    }
   ],
   "source": [
    "# Create embeddings of your documents to get ready for semantic search\n",
    "# Wrapper around OpenAI embedding models\n",
    "# Load Data to vectorstore (for local storage)\n",
    "embeddings = OpenAIEmbeddings(openai_api_key=OPENAI_API_KEY)\n",
    "vectorstore = FAISS.from_documents(texts, embeddings)"
   ]
  },
  {
   "cell_type": "code",
   "execution_count": 20,
   "id": "0a7f957e",
   "metadata": {},
   "outputs": [
    {
     "data": {
      "application/javascript": [
       "\n",
       "            setTimeout(function() {\n",
       "                var nbb_cell_id = 20;\n",
       "                var nbb_unformatted_code = \"# Store embeddings\\npickle.dump(vectorstore, open(str_path_output, \\\"wb\\\"))\";\n",
       "                var nbb_formatted_code = \"# Store embeddings\\npickle.dump(vectorstore, open(str_path_output, \\\"wb\\\"))\";\n",
       "                var nbb_cells = Jupyter.notebook.get_cells();\n",
       "                for (var i = 0; i < nbb_cells.length; ++i) {\n",
       "                    if (nbb_cells[i].input_prompt_number == nbb_cell_id) {\n",
       "                        if (nbb_cells[i].get_text() == nbb_unformatted_code) {\n",
       "                             nbb_cells[i].set_text(nbb_formatted_code);\n",
       "                        }\n",
       "                        break;\n",
       "                    }\n",
       "                }\n",
       "            }, 500);\n",
       "            "
      ],
      "text/plain": [
       "<IPython.core.display.Javascript object>"
      ]
     },
     "metadata": {},
     "output_type": "display_data"
    }
   ],
   "source": [
    "# Store embeddings\n",
    "pickle.dump(vectorstore, open(str_path_output, \"wb\"))"
   ]
  },
  {
   "cell_type": "markdown",
   "id": "25ec0b0c",
   "metadata": {},
   "source": [
    "### Create embeddings and store them (`PyPDF`)"
   ]
  },
  {
   "cell_type": "code",
   "execution_count": 51,
   "id": "4c8bf121",
   "metadata": {},
   "outputs": [
    {
     "data": {
      "application/javascript": [
       "\n",
       "            setTimeout(function() {\n",
       "                var nbb_cell_id = 51;\n",
       "                var nbb_unformatted_code = \"# Download embeddings from OpenAI\\nembeddings = OpenAIEmbeddings(openai_api_key=OPENAI_API_KEY)\";\n",
       "                var nbb_formatted_code = \"# Download embeddings from OpenAI\\nembeddings = OpenAIEmbeddings(openai_api_key=OPENAI_API_KEY)\";\n",
       "                var nbb_cells = Jupyter.notebook.get_cells();\n",
       "                for (var i = 0; i < nbb_cells.length; ++i) {\n",
       "                    if (nbb_cells[i].input_prompt_number == nbb_cell_id) {\n",
       "                        if (nbb_cells[i].get_text() == nbb_unformatted_code) {\n",
       "                             nbb_cells[i].set_text(nbb_formatted_code);\n",
       "                        }\n",
       "                        break;\n",
       "                    }\n",
       "                }\n",
       "            }, 500);\n",
       "            "
      ],
      "text/plain": [
       "<IPython.core.display.Javascript object>"
      ]
     },
     "metadata": {},
     "output_type": "display_data"
    }
   ],
   "source": [
    "# Download embeddings from OpenAI\n",
    "embeddings = OpenAIEmbeddings(openai_api_key=OPENAI_API_KEY)"
   ]
  },
  {
   "cell_type": "code",
   "execution_count": 52,
   "id": "6788a070",
   "metadata": {},
   "outputs": [
    {
     "data": {
      "application/javascript": [
       "\n",
       "            setTimeout(function() {\n",
       "                var nbb_cell_id = 52;\n",
       "                var nbb_unformatted_code = \"docsearch = FAISS.from_texts(texts, embeddings)\";\n",
       "                var nbb_formatted_code = \"docsearch = FAISS.from_texts(texts, embeddings)\";\n",
       "                var nbb_cells = Jupyter.notebook.get_cells();\n",
       "                for (var i = 0; i < nbb_cells.length; ++i) {\n",
       "                    if (nbb_cells[i].input_prompt_number == nbb_cell_id) {\n",
       "                        if (nbb_cells[i].get_text() == nbb_unformatted_code) {\n",
       "                             nbb_cells[i].set_text(nbb_formatted_code);\n",
       "                        }\n",
       "                        break;\n",
       "                    }\n",
       "                }\n",
       "            }, 500);\n",
       "            "
      ],
      "text/plain": [
       "<IPython.core.display.Javascript object>"
      ]
     },
     "metadata": {},
     "output_type": "display_data"
    }
   ],
   "source": [
    "# Use the from_texts() function to convert each document into a vector\n",
    "docsearch = FAISS.from_texts(texts, embeddings)"
   ]
  },
  {
   "cell_type": "code",
   "execution_count": 53,
   "id": "d605eca2",
   "metadata": {},
   "outputs": [
    {
     "data": {
      "application/javascript": [
       "\n",
       "            setTimeout(function() {\n",
       "                var nbb_cell_id = 53;\n",
       "                var nbb_unformatted_code = \"# Change filename\\nstr_path_output = str_folder_outputs + srt_filename_next+\\\"_v2\\\" + \\\".pkl\\\"\\n# Store embeddings\\npickle.dump(docsearch, open(str_path_output, \\\"wb\\\"))\";\n",
       "                var nbb_formatted_code = \"# Change filename\\nstr_path_output = str_folder_outputs + srt_filename_next + \\\"_v2\\\" + \\\".pkl\\\"\\n# Store embeddings\\npickle.dump(docsearch, open(str_path_output, \\\"wb\\\"))\";\n",
       "                var nbb_cells = Jupyter.notebook.get_cells();\n",
       "                for (var i = 0; i < nbb_cells.length; ++i) {\n",
       "                    if (nbb_cells[i].input_prompt_number == nbb_cell_id) {\n",
       "                        if (nbb_cells[i].get_text() == nbb_unformatted_code) {\n",
       "                             nbb_cells[i].set_text(nbb_formatted_code);\n",
       "                        }\n",
       "                        break;\n",
       "                    }\n",
       "                }\n",
       "            }, 500);\n",
       "            "
      ],
      "text/plain": [
       "<IPython.core.display.Javascript object>"
      ]
     },
     "metadata": {},
     "output_type": "display_data"
    }
   ],
   "source": [
    "# Change filename\n",
    "str_path_output = str_folder_outputs + srt_filename_next + \"_v2\" + \".pkl\"\n",
    "# Store embeddings\n",
    "pickle.dump(docsearch, open(str_path_output, \"wb\"))"
   ]
  },
  {
   "cell_type": "markdown",
   "id": "052023cb",
   "metadata": {},
   "source": [
    "### Load pickle file with vectorstore"
   ]
  },
  {
   "cell_type": "code",
   "execution_count": 21,
   "id": "6bc0010b",
   "metadata": {},
   "outputs": [
    {
     "data": {
      "text/plain": [
       "['chat.pkl', 'file.pkl', 'mifid2.pkl', 'Prospectiva', 'vectorstore.pkl']"
      ]
     },
     "execution_count": 21,
     "metadata": {},
     "output_type": "execute_result"
    },
    {
     "data": {
      "application/javascript": [
       "\n",
       "            setTimeout(function() {\n",
       "                var nbb_cell_id = 21;\n",
       "                var nbb_unformatted_code = \"# File names\\nlst_pkls = [x for x in os.listdir(str_folder_outputs)]\\nlst_pkls\";\n",
       "                var nbb_formatted_code = \"# File names\\nlst_pkls = [x for x in os.listdir(str_folder_outputs)]\\nlst_pkls\";\n",
       "                var nbb_cells = Jupyter.notebook.get_cells();\n",
       "                for (var i = 0; i < nbb_cells.length; ++i) {\n",
       "                    if (nbb_cells[i].input_prompt_number == nbb_cell_id) {\n",
       "                        if (nbb_cells[i].get_text() == nbb_unformatted_code) {\n",
       "                             nbb_cells[i].set_text(nbb_formatted_code);\n",
       "                        }\n",
       "                        break;\n",
       "                    }\n",
       "                }\n",
       "            }, 500);\n",
       "            "
      ],
      "text/plain": [
       "<IPython.core.display.Javascript object>"
      ]
     },
     "metadata": {},
     "output_type": "display_data"
    }
   ],
   "source": [
    "# File names\n",
    "lst_pkls = [x for x in os.listdir(str_folder_outputs)]\n",
    "lst_pkls"
   ]
  },
  {
   "cell_type": "code",
   "execution_count": 22,
   "id": "8a5038d2",
   "metadata": {},
   "outputs": [
    {
     "data": {
      "text/plain": [
       "'outputs/mifid2.pkl'"
      ]
     },
     "execution_count": 22,
     "metadata": {},
     "output_type": "execute_result"
    },
    {
     "data": {
      "application/javascript": [
       "\n",
       "            setTimeout(function() {\n",
       "                var nbb_cell_id = 22;\n",
       "                var nbb_unformatted_code = \"# Pickle filename and path\\nstr_filename_pkl = str_folder_outputs + lst_pkls[2]\\nstr_filename_pkl\";\n",
       "                var nbb_formatted_code = \"# Pickle filename and path\\nstr_filename_pkl = str_folder_outputs + lst_pkls[2]\\nstr_filename_pkl\";\n",
       "                var nbb_cells = Jupyter.notebook.get_cells();\n",
       "                for (var i = 0; i < nbb_cells.length; ++i) {\n",
       "                    if (nbb_cells[i].input_prompt_number == nbb_cell_id) {\n",
       "                        if (nbb_cells[i].get_text() == nbb_unformatted_code) {\n",
       "                             nbb_cells[i].set_text(nbb_formatted_code);\n",
       "                        }\n",
       "                        break;\n",
       "                    }\n",
       "                }\n",
       "            }, 500);\n",
       "            "
      ],
      "text/plain": [
       "<IPython.core.display.Javascript object>"
      ]
     },
     "metadata": {},
     "output_type": "display_data"
    }
   ],
   "source": [
    "# Pickle filename and path\n",
    "str_filename_pkl = str_folder_outputs + lst_pkls[2]\n",
    "str_filename_pkl"
   ]
  },
  {
   "cell_type": "code",
   "execution_count": null,
   "id": "9c775183",
   "metadata": {},
   "outputs": [],
   "source": [
    "vectorstore = pickle.load(open(str_filename_pkl, \"rb\"))"
   ]
  },
  {
   "cell_type": "markdown",
   "id": "3a4f3047",
   "metadata": {},
   "source": [
    "### Pinecone"
   ]
  },
  {
   "cell_type": "code",
   "execution_count": 28,
   "id": "7bb5aa67",
   "metadata": {},
   "outputs": [
    {
     "data": {
      "application/javascript": [
       "\n",
       "            setTimeout(function() {\n",
       "                var nbb_cell_id = 28;\n",
       "                var nbb_unformatted_code = \"# Initialize pinecone\\npinecone.init(\\n    api_key=PINECONE_API_KEY,  # find at app.pinecone.io\\n    environment=PINECONE_API_ENV,  # next to api key in console\\n)\\n# Name of the pinecone index\\nindex_name = \\\"general\\\"\\n# Pinecone namespace for the document\\nnamespace = \\\"mifid2\\\"\";\n",
       "                var nbb_formatted_code = \"# Initialize pinecone\\npinecone.init(\\n    api_key=PINECONE_API_KEY,  # find at app.pinecone.io\\n    environment=PINECONE_API_ENV,  # next to api key in console\\n)\\n# Name of the pinecone index\\nindex_name = \\\"general\\\"\\n# Pinecone namespace for the document\\nnamespace = \\\"mifid2\\\"\";\n",
       "                var nbb_cells = Jupyter.notebook.get_cells();\n",
       "                for (var i = 0; i < nbb_cells.length; ++i) {\n",
       "                    if (nbb_cells[i].input_prompt_number == nbb_cell_id) {\n",
       "                        if (nbb_cells[i].get_text() == nbb_unformatted_code) {\n",
       "                             nbb_cells[i].set_text(nbb_formatted_code);\n",
       "                        }\n",
       "                        break;\n",
       "                    }\n",
       "                }\n",
       "            }, 500);\n",
       "            "
      ],
      "text/plain": [
       "<IPython.core.display.Javascript object>"
      ]
     },
     "metadata": {},
     "output_type": "display_data"
    }
   ],
   "source": [
    "# Initialize pinecone\n",
    "pinecone.init(\n",
    "    api_key=PINECONE_API_KEY,  # find at app.pinecone.io\n",
    "    environment=PINECONE_API_ENV,  # next to api key in console\n",
    ")\n",
    "# Name of the pinecone index\n",
    "index_name = \"general\"\n",
    "# Pinecone namespace for the document\n",
    "namespace = \"mifid2\""
   ]
  },
  {
   "cell_type": "code",
   "execution_count": 29,
   "id": "0dde260c",
   "metadata": {},
   "outputs": [
    {
     "data": {
      "application/javascript": [
       "\n",
       "            setTimeout(function() {\n",
       "                var nbb_cell_id = 29;\n",
       "                var nbb_unformatted_code = \"# Use the from_texts() function to convert each document into a vector\\ndocsearch = Pinecone.from_texts(\\n    [t.page_content for t in texts],\\n    embeddings,\\n    index_name=index_name,\\n    namespace=namespace,\\n)\";\n",
       "                var nbb_formatted_code = \"# Use the from_texts() function to convert each document into a vector\\ndocsearch = Pinecone.from_texts(\\n    [t.page_content for t in texts],\\n    embeddings,\\n    index_name=index_name,\\n    namespace=namespace,\\n)\";\n",
       "                var nbb_cells = Jupyter.notebook.get_cells();\n",
       "                for (var i = 0; i < nbb_cells.length; ++i) {\n",
       "                    if (nbb_cells[i].input_prompt_number == nbb_cell_id) {\n",
       "                        if (nbb_cells[i].get_text() == nbb_unformatted_code) {\n",
       "                             nbb_cells[i].set_text(nbb_formatted_code);\n",
       "                        }\n",
       "                        break;\n",
       "                    }\n",
       "                }\n",
       "            }, 500);\n",
       "            "
      ],
      "text/plain": [
       "<IPython.core.display.Javascript object>"
      ]
     },
     "metadata": {},
     "output_type": "display_data"
    }
   ],
   "source": [
    "# Use the from_texts() function to convert each document into a vector\n",
    "docsearch = Pinecone.from_texts(\n",
    "    [t.page_content for t in texts],\n",
    "    embeddings,\n",
    "    index_name=index_name,\n",
    "    namespace=namespace,\n",
    ")"
   ]
  },
  {
   "cell_type": "markdown",
   "id": "9ee0b042",
   "metadata": {},
   "source": [
    "## Query data"
   ]
  },
  {
   "cell_type": "markdown",
   "id": "e3c31b97",
   "metadata": {},
   "source": [
    "### Using locally store vector database"
   ]
  },
  {
   "cell_type": "code",
   "execution_count": 23,
   "id": "b3d6a523",
   "metadata": {
    "scrolled": true
   },
   "outputs": [
    {
     "name": "stderr",
     "output_type": "stream",
     "text": [
      "C:\\ProgramData\\anaconda3\\lib\\site-packages\\langchain\\llms\\openai.py:158: UserWarning: You are trying to use a chat model. This way of initializing it is no longer supported. Instead, please use: `from langchain.chat_models import ChatOpenAI`\n",
      "  warnings.warn(\n",
      "C:\\ProgramData\\anaconda3\\lib\\site-packages\\langchain\\llms\\openai.py:661: UserWarning: You are trying to use a chat model. This way of initializing it is no longer supported. Instead, please use: `from langchain.chat_models import ChatOpenAI`\n",
      "  warnings.warn(\n"
     ]
    },
    {
     "data": {
      "application/javascript": [
       "\n",
       "            setTimeout(function() {\n",
       "                var nbb_cell_id = 23;\n",
       "                var nbb_unformatted_code = \"llm = OpenAI(model_name=\\\"gpt-3.5-turbo\\\", temperature=0, openai_api_key=OPENAI_API_KEY)\";\n",
       "                var nbb_formatted_code = \"llm = OpenAI(model_name=\\\"gpt-3.5-turbo\\\", temperature=0, openai_api_key=OPENAI_API_KEY)\";\n",
       "                var nbb_cells = Jupyter.notebook.get_cells();\n",
       "                for (var i = 0; i < nbb_cells.length; ++i) {\n",
       "                    if (nbb_cells[i].input_prompt_number == nbb_cell_id) {\n",
       "                        if (nbb_cells[i].get_text() == nbb_unformatted_code) {\n",
       "                             nbb_cells[i].set_text(nbb_formatted_code);\n",
       "                        }\n",
       "                        break;\n",
       "                    }\n",
       "                }\n",
       "            }, 500);\n",
       "            "
      ],
      "text/plain": [
       "<IPython.core.display.Javascript object>"
      ]
     },
     "metadata": {},
     "output_type": "display_data"
    }
   ],
   "source": [
    "llm = OpenAI(model_name=\"gpt-3.5-turbo\", temperature=0, openai_api_key=OPENAI_API_KEY)"
   ]
  },
  {
   "cell_type": "code",
   "execution_count": 24,
   "id": "6c9b7e6f",
   "metadata": {},
   "outputs": [
    {
     "name": "stderr",
     "output_type": "stream",
     "text": [
      "C:\\ProgramData\\anaconda3\\lib\\site-packages\\langchain\\chains\\conversational_retrieval\\base.py:191: UserWarning: `ChatVectorDBChain` is deprecated - please use `from langchain.chains import ConversationalRetrievalChain`\n",
      "  warnings.warn(\n"
     ]
    },
    {
     "data": {
      "application/javascript": [
       "\n",
       "            setTimeout(function() {\n",
       "                var nbb_cell_id = 24;\n",
       "                var nbb_unformatted_code = \"#\\nQA_PROMPT = \\\"What is the title of this document?\\\"\\n#\\na_chain = ChatVectorDBChain.from_llm(\\n    llm=llm, vectorstore=vectorstore, return_source_documents=True\\n)\\n#\\nresult = a_chain({\\\"question\\\": QA_PROMPT, \\\"chat_history\\\": \\\"\\\"})\";\n",
       "                var nbb_formatted_code = \"#\\nQA_PROMPT = \\\"What is the title of this document?\\\"\\n#\\na_chain = ChatVectorDBChain.from_llm(\\n    llm=llm, vectorstore=vectorstore, return_source_documents=True\\n)\\n#\\nresult = a_chain({\\\"question\\\": QA_PROMPT, \\\"chat_history\\\": \\\"\\\"})\";\n",
       "                var nbb_cells = Jupyter.notebook.get_cells();\n",
       "                for (var i = 0; i < nbb_cells.length; ++i) {\n",
       "                    if (nbb_cells[i].input_prompt_number == nbb_cell_id) {\n",
       "                        if (nbb_cells[i].get_text() == nbb_unformatted_code) {\n",
       "                             nbb_cells[i].set_text(nbb_formatted_code);\n",
       "                        }\n",
       "                        break;\n",
       "                    }\n",
       "                }\n",
       "            }, 500);\n",
       "            "
      ],
      "text/plain": [
       "<IPython.core.display.Javascript object>"
      ]
     },
     "metadata": {},
     "output_type": "display_data"
    }
   ],
   "source": [
    "#\n",
    "QA_PROMPT = \"What is the title of this document?\"\n",
    "#\n",
    "a_chain = ChatVectorDBChain.from_llm(\n",
    "    llm=llm, vectorstore=vectorstore, return_source_documents=True\n",
    ")\n",
    "#\n",
    "result = a_chain({\"question\": QA_PROMPT, \"chat_history\": \"\"})"
   ]
  },
  {
   "cell_type": "code",
   "execution_count": 25,
   "id": "afed6c58",
   "metadata": {},
   "outputs": [
    {
     "data": {
      "text/plain": [
       "dict_keys(['question', 'chat_history', 'answer', 'source_documents'])"
      ]
     },
     "execution_count": 25,
     "metadata": {},
     "output_type": "execute_result"
    },
    {
     "data": {
      "application/javascript": [
       "\n",
       "            setTimeout(function() {\n",
       "                var nbb_cell_id = 25;\n",
       "                var nbb_unformatted_code = \"result.keys()\";\n",
       "                var nbb_formatted_code = \"result.keys()\";\n",
       "                var nbb_cells = Jupyter.notebook.get_cells();\n",
       "                for (var i = 0; i < nbb_cells.length; ++i) {\n",
       "                    if (nbb_cells[i].input_prompt_number == nbb_cell_id) {\n",
       "                        if (nbb_cells[i].get_text() == nbb_unformatted_code) {\n",
       "                             nbb_cells[i].set_text(nbb_formatted_code);\n",
       "                        }\n",
       "                        break;\n",
       "                    }\n",
       "                }\n",
       "            }, 500);\n",
       "            "
      ],
      "text/plain": [
       "<IPython.core.display.Javascript object>"
      ]
     },
     "metadata": {},
     "output_type": "display_data"
    }
   ],
   "source": [
    "result.keys()"
   ]
  },
  {
   "cell_type": "code",
   "execution_count": 26,
   "id": "6601674c",
   "metadata": {},
   "outputs": [
    {
     "data": {
      "text/plain": [
       "'The title of this document is not provided.'"
      ]
     },
     "execution_count": 26,
     "metadata": {},
     "output_type": "execute_result"
    },
    {
     "data": {
      "application/javascript": [
       "\n",
       "            setTimeout(function() {\n",
       "                var nbb_cell_id = 26;\n",
       "                var nbb_unformatted_code = \"result[\\\"answer\\\"]\";\n",
       "                var nbb_formatted_code = \"result[\\\"answer\\\"]\";\n",
       "                var nbb_cells = Jupyter.notebook.get_cells();\n",
       "                for (var i = 0; i < nbb_cells.length; ++i) {\n",
       "                    if (nbb_cells[i].input_prompt_number == nbb_cell_id) {\n",
       "                        if (nbb_cells[i].get_text() == nbb_unformatted_code) {\n",
       "                             nbb_cells[i].set_text(nbb_formatted_code);\n",
       "                        }\n",
       "                        break;\n",
       "                    }\n",
       "                }\n",
       "            }, 500);\n",
       "            "
      ],
      "text/plain": [
       "<IPython.core.display.Javascript object>"
      ]
     },
     "metadata": {},
     "output_type": "display_data"
    }
   ],
   "source": [
    "result[\"answer\"]"
   ]
  },
  {
   "cell_type": "markdown",
   "id": "169982b1",
   "metadata": {},
   "source": [
    "### Pinecone"
   ]
  },
  {
   "cell_type": "code",
   "execution_count": 30,
   "id": "90f3cb19",
   "metadata": {},
   "outputs": [
    {
     "data": {
      "application/javascript": [
       "\n",
       "            setTimeout(function() {\n",
       "                var nbb_cell_id = 30;\n",
       "                var nbb_unformatted_code = \"llm_pc = OpenAI(temperature=0, openai_api_key=OPENAI_API_KEY)\\nchain = load_qa_chain(llm_pc, chain_type=\\\"stuff\\\")\";\n",
       "                var nbb_formatted_code = \"llm_pc = OpenAI(temperature=0, openai_api_key=OPENAI_API_KEY)\\nchain = load_qa_chain(llm_pc, chain_type=\\\"stuff\\\")\";\n",
       "                var nbb_cells = Jupyter.notebook.get_cells();\n",
       "                for (var i = 0; i < nbb_cells.length; ++i) {\n",
       "                    if (nbb_cells[i].input_prompt_number == nbb_cell_id) {\n",
       "                        if (nbb_cells[i].get_text() == nbb_unformatted_code) {\n",
       "                             nbb_cells[i].set_text(nbb_formatted_code);\n",
       "                        }\n",
       "                        break;\n",
       "                    }\n",
       "                }\n",
       "            }, 500);\n",
       "            "
      ],
      "text/plain": [
       "<IPython.core.display.Javascript object>"
      ]
     },
     "metadata": {},
     "output_type": "display_data"
    }
   ],
   "source": [
    "llm_pc = OpenAI(temperature=0, openai_api_key=OPENAI_API_KEY)\n",
    "chain = load_qa_chain(llm_pc, chain_type=\"stuff\")"
   ]
  },
  {
   "cell_type": "code",
   "execution_count": 31,
   "id": "ad98aae4",
   "metadata": {},
   "outputs": [
    {
     "data": {
      "text/plain": [
       "' The title of this document is the Joint Political Declaration of Member States and the Commission on explanatory documents of 28 September 2011.'"
      ]
     },
     "execution_count": 31,
     "metadata": {},
     "output_type": "execute_result"
    },
    {
     "data": {
      "application/javascript": [
       "\n",
       "            setTimeout(function() {\n",
       "                var nbb_cell_id = 31;\n",
       "                var nbb_unformatted_code = \"query = \\\"What is the title of this document?\\\"\\ndocs = docsearch.similarity_search(query, include_metadata=True, namespace=namespace)\\nchain.run(input_documents=docs, question=query)\";\n",
       "                var nbb_formatted_code = \"query = \\\"What is the title of this document?\\\"\\ndocs = docsearch.similarity_search(query, include_metadata=True, namespace=namespace)\\nchain.run(input_documents=docs, question=query)\";\n",
       "                var nbb_cells = Jupyter.notebook.get_cells();\n",
       "                for (var i = 0; i < nbb_cells.length; ++i) {\n",
       "                    if (nbb_cells[i].input_prompt_number == nbb_cell_id) {\n",
       "                        if (nbb_cells[i].get_text() == nbb_unformatted_code) {\n",
       "                             nbb_cells[i].set_text(nbb_formatted_code);\n",
       "                        }\n",
       "                        break;\n",
       "                    }\n",
       "                }\n",
       "            }, 500);\n",
       "            "
      ],
      "text/plain": [
       "<IPython.core.display.Javascript object>"
      ]
     },
     "metadata": {},
     "output_type": "display_data"
    }
   ],
   "source": [
    "query = \"What is the title of this document?\"\n",
    "docs = docsearch.similarity_search(query, include_metadata=True, namespace=namespace)\n",
    "chain.run(input_documents=docs, question=query)"
   ]
  },
  {
   "cell_type": "code",
   "execution_count": 32,
   "id": "d8714b42",
   "metadata": {
    "scrolled": false
   },
   "outputs": [
    {
     "data": {
      "text/plain": [
       "' The Joint Political Declaration of Member States and the Commission on explanatory documents outlines the requirement for Member States to provide documents explaining the relationship between the components of a directive and the corresponding parts of national transposition instruments. The Scope and Definitions section outlines the content of the information to be published, as well as the concrete organisational requirements. The ESMA section states that ESMA shall submit draft regulatory technical standards to the Commission by 3 July. The Conditions for CTPs section outlines the organisational requirements for the delegated acts, as well as the information to be provided to clients about costs and charges.'"
      ]
     },
     "execution_count": 32,
     "metadata": {},
     "output_type": "execute_result"
    },
    {
     "data": {
      "application/javascript": [
       "\n",
       "            setTimeout(function() {\n",
       "                var nbb_cell_id = 32;\n",
       "                var nbb_unformatted_code = \"query = \\\"Summarize each section of the document\\\"\\ndocs = docsearch.similarity_search(query, include_metadata=True, namespace=namespace)\\nchain.run(input_documents=docs, question=query)\";\n",
       "                var nbb_formatted_code = \"query = \\\"Summarize each section of the document\\\"\\ndocs = docsearch.similarity_search(query, include_metadata=True, namespace=namespace)\\nchain.run(input_documents=docs, question=query)\";\n",
       "                var nbb_cells = Jupyter.notebook.get_cells();\n",
       "                for (var i = 0; i < nbb_cells.length; ++i) {\n",
       "                    if (nbb_cells[i].input_prompt_number == nbb_cell_id) {\n",
       "                        if (nbb_cells[i].get_text() == nbb_unformatted_code) {\n",
       "                             nbb_cells[i].set_text(nbb_formatted_code);\n",
       "                        }\n",
       "                        break;\n",
       "                    }\n",
       "                }\n",
       "            }, 500);\n",
       "            "
      ],
      "text/plain": [
       "<IPython.core.display.Javascript object>"
      ]
     },
     "metadata": {},
     "output_type": "display_data"
    }
   ],
   "source": [
    "query = \"Summarize each section of the document\"\n",
    "docs = docsearch.similarity_search(query, include_metadata=True, namespace=namespace)\n",
    "chain.run(input_documents=docs, question=query)"
   ]
  },
  {
   "cell_type": "markdown",
   "id": "b9a10d33",
   "metadata": {},
   "source": [
    "### FAISS"
   ]
  },
  {
   "cell_type": "code",
   "execution_count": 55,
   "id": "bea0c873",
   "metadata": {},
   "outputs": [
    {
     "data": {
      "application/javascript": [
       "\n",
       "            setTimeout(function() {\n",
       "                var nbb_cell_id = 55;\n",
       "                var nbb_unformatted_code = \"chain = load_qa_chain(OpenAI(openai_api_key=OPENAI_API_KEY), chain_type=\\\"stuff\\\")\";\n",
       "                var nbb_formatted_code = \"chain = load_qa_chain(OpenAI(openai_api_key=OPENAI_API_KEY), chain_type=\\\"stuff\\\")\";\n",
       "                var nbb_cells = Jupyter.notebook.get_cells();\n",
       "                for (var i = 0; i < nbb_cells.length; ++i) {\n",
       "                    if (nbb_cells[i].input_prompt_number == nbb_cell_id) {\n",
       "                        if (nbb_cells[i].get_text() == nbb_unformatted_code) {\n",
       "                             nbb_cells[i].set_text(nbb_formatted_code);\n",
       "                        }\n",
       "                        break;\n",
       "                    }\n",
       "                }\n",
       "            }, 500);\n",
       "            "
      ],
      "text/plain": [
       "<IPython.core.display.Javascript object>"
      ]
     },
     "metadata": {},
     "output_type": "display_data"
    }
   ],
   "source": [
    "chain = load_qa_chain(OpenAI(openai_api_key=OPENAI_API_KEY), chain_type=\"stuff\")"
   ]
  },
  {
   "cell_type": "code",
   "execution_count": 57,
   "id": "d99d1c4d",
   "metadata": {},
   "outputs": [
    {
     "data": {
      "text/plain": [
       "' This document is Directive 2014/65/EU of the European Parliament and of the Council of 15 May 2014 on markets in financial instruments and amending Directive 2002/92/EC and Directive 2011/61/EU.'"
      ]
     },
     "execution_count": 57,
     "metadata": {},
     "output_type": "execute_result"
    },
    {
     "data": {
      "application/javascript": [
       "\n",
       "            setTimeout(function() {\n",
       "                var nbb_cell_id = 57;\n",
       "                var nbb_unformatted_code = \"query = \\\"What is the full title of this document?\\\"\\ndocs = docsearch.similarity_search(query)\\nchain.run(input_documents=docs, question=query)\";\n",
       "                var nbb_formatted_code = \"query = \\\"What is the full title of this document?\\\"\\ndocs = docsearch.similarity_search(query)\\nchain.run(input_documents=docs, question=query)\";\n",
       "                var nbb_cells = Jupyter.notebook.get_cells();\n",
       "                for (var i = 0; i < nbb_cells.length; ++i) {\n",
       "                    if (nbb_cells[i].input_prompt_number == nbb_cell_id) {\n",
       "                        if (nbb_cells[i].get_text() == nbb_unformatted_code) {\n",
       "                             nbb_cells[i].set_text(nbb_formatted_code);\n",
       "                        }\n",
       "                        break;\n",
       "                    }\n",
       "                }\n",
       "            }, 500);\n",
       "            "
      ],
      "text/plain": [
       "<IPython.core.display.Javascript object>"
      ]
     },
     "metadata": {},
     "output_type": "display_data"
    }
   ],
   "source": [
    "query = \"What is the full title of this document?\"\n",
    "docs = docsearch.similarity_search(query)\n",
    "chain.run(input_documents=docs, question=query)"
   ]
  },
  {
   "cell_type": "code",
   "execution_count": 58,
   "id": "5d551b39",
   "metadata": {},
   "outputs": [
    {
     "data": {
      "text/plain": [
       "' Article 23(1): The investment firm must establish a record that includes the document or documents agreed between the investment firm and the client that set out the rights and obligations of the parties, and the other terms on which the investment firm will provide services to the client. Article 23(2): The investment firm must provide the client with adequate reports on the service provided in a durable medium. The reports must include periodic communications to clients, taking into account the type and complexity of financial instruments involved and the nature of the service provided and must include the associated costs. Article 23(4): The information must be provided in a comprehensible form, in a way that clients can understand the nature and risks of the investment service, and of the type of financial instrument being offered, and must include the overall cost and cumulative effect on return of the investment. Where requested, an itemised breakdown must be provided.'"
      ]
     },
     "execution_count": 58,
     "metadata": {},
     "output_type": "execute_result"
    },
    {
     "data": {
      "application/javascript": [
       "\n",
       "            setTimeout(function() {\n",
       "                var nbb_cell_id = 58;\n",
       "                var nbb_unformatted_code = \"query = \\\"Summarize each section of the document\\\"\\ndocs = docsearch.similarity_search(query)\\nchain.run(input_documents=docs, question=query)\";\n",
       "                var nbb_formatted_code = \"query = \\\"Summarize each section of the document\\\"\\ndocs = docsearch.similarity_search(query)\\nchain.run(input_documents=docs, question=query)\";\n",
       "                var nbb_cells = Jupyter.notebook.get_cells();\n",
       "                for (var i = 0; i < nbb_cells.length; ++i) {\n",
       "                    if (nbb_cells[i].input_prompt_number == nbb_cell_id) {\n",
       "                        if (nbb_cells[i].get_text() == nbb_unformatted_code) {\n",
       "                             nbb_cells[i].set_text(nbb_formatted_code);\n",
       "                        }\n",
       "                        break;\n",
       "                    }\n",
       "                }\n",
       "            }, 500);\n",
       "            "
      ],
      "text/plain": [
       "<IPython.core.display.Javascript object>"
      ]
     },
     "metadata": {},
     "output_type": "display_data"
    }
   ],
   "source": [
    "query = \"Summarize each section of the document\"\n",
    "docs = docsearch.similarity_search(query)\n",
    "chain.run(input_documents=docs, question=query)"
   ]
  },
  {
   "cell_type": "code",
   "execution_count": 59,
   "id": "8cf114dc",
   "metadata": {},
   "outputs": [
    {
     "data": {
      "text/plain": [
       "' According to the document, Article 12 is in Part 1, Article 13(1) is in Part 2, Article 13(2) is in Part 3, Article 14(1) is in Part 4, Article 14(2) is in Part 5, Article 14(3) is in Part 6, Article 14(4) is in Part 7, Article 14(5) is in Part 8, Article 14(6) is in Part 9, Article 15 is in Part 10, Article 16(1) is in Part 11, Article 16(2) is in Part 12, Article 16(3) is in Part 13, Article 17(1) is in Part 14, Article 17(2) is in Part 15, Article 18(1) is in Part 16, Article 18(2) is in Part 17, Article 18(3) is in Part 18, Article 19(1) is in Part 19, Article 19(2) is in Part 20, Article 19(3) is in Part 21, and Article 19(4) is in Part 22.'"
      ]
     },
     "execution_count": 59,
     "metadata": {},
     "output_type": "execute_result"
    },
    {
     "data": {
      "application/javascript": [
       "\n",
       "            setTimeout(function() {\n",
       "                var nbb_cell_id = 59;\n",
       "                var nbb_unformatted_code = \"query = \\\"Classify each article of the document\\\"\\ndocs = docsearch.similarity_search(query)\\nchain.run(input_documents=docs, question=query)\";\n",
       "                var nbb_formatted_code = \"query = \\\"Classify each article of the document\\\"\\ndocs = docsearch.similarity_search(query)\\nchain.run(input_documents=docs, question=query)\";\n",
       "                var nbb_cells = Jupyter.notebook.get_cells();\n",
       "                for (var i = 0; i < nbb_cells.length; ++i) {\n",
       "                    if (nbb_cells[i].input_prompt_number == nbb_cell_id) {\n",
       "                        if (nbb_cells[i].get_text() == nbb_unformatted_code) {\n",
       "                             nbb_cells[i].set_text(nbb_formatted_code);\n",
       "                        }\n",
       "                        break;\n",
       "                    }\n",
       "                }\n",
       "            }, 500);\n",
       "            "
      ],
      "text/plain": [
       "<IPython.core.display.Javascript object>"
      ]
     },
     "metadata": {},
     "output_type": "display_data"
    }
   ],
   "source": [
    "query = \"Classify each article of the document\"\n",
    "docs = docsearch.similarity_search(query)\n",
    "chain.run(input_documents=docs, question=query)"
   ]
  },
  {
   "cell_type": "code",
   "execution_count": 60,
   "id": "e8f00dc2",
   "metadata": {},
   "outputs": [
    {
     "data": {
      "text/plain": [
       "' This document outlines the rights and obligations of investment firms and their clients. It provides information on the documents and reports that must be provided to clients, the information that must be provided to the client to understand the overall cost, and the obligations of the investment firm when complying with Article 23. It also outlines the relationship between the components of a directive and the corresponding parts of national transposition instruments.'"
      ]
     },
     "execution_count": 60,
     "metadata": {},
     "output_type": "execute_result"
    },
    {
     "data": {
      "application/javascript": [
       "\n",
       "            setTimeout(function() {\n",
       "                var nbb_cell_id = 60;\n",
       "                var nbb_unformatted_code = \"query = \\\"Summarize each part of the document\\\"\\ndocs = docsearch.similarity_search(query)\\nchain.run(input_documents=docs, question=query)\";\n",
       "                var nbb_formatted_code = \"query = \\\"Summarize each part of the document\\\"\\ndocs = docsearch.similarity_search(query)\\nchain.run(input_documents=docs, question=query)\";\n",
       "                var nbb_cells = Jupyter.notebook.get_cells();\n",
       "                for (var i = 0; i < nbb_cells.length; ++i) {\n",
       "                    if (nbb_cells[i].input_prompt_number == nbb_cell_id) {\n",
       "                        if (nbb_cells[i].get_text() == nbb_unformatted_code) {\n",
       "                             nbb_cells[i].set_text(nbb_formatted_code);\n",
       "                        }\n",
       "                        break;\n",
       "                    }\n",
       "                }\n",
       "            }, 500);\n",
       "            "
      ],
      "text/plain": [
       "<IPython.core.display.Javascript object>"
      ]
     },
     "metadata": {},
     "output_type": "display_data"
    }
   ],
   "source": [
    "query = \"Summarize each part of the document\"\n",
    "docs = docsearch.similarity_search(query)\n",
    "chain.run(input_documents=docs, question=query)"
   ]
  },
  {
   "cell_type": "code",
   "execution_count": 61,
   "id": "077c6f70",
   "metadata": {},
   "outputs": [
    {
     "data": {
      "text/plain": [
       "' Investment firms must take all reasonable steps to record relevant telephone conversations and electronic communications related to transactions or the provision of client order services. They must also notify clients that such communications will be recorded, and must provide periodic reports to clients about the quality of execution of transactions, including details about price, costs, and other services undertaken on their behalf.'"
      ]
     },
     "execution_count": 61,
     "metadata": {},
     "output_type": "execute_result"
    },
    {
     "data": {
      "application/javascript": [
       "\n",
       "            setTimeout(function() {\n",
       "                var nbb_cell_id = 61;\n",
       "                var nbb_unformatted_code = \"query = \\\"Transaction reporting obligations\\\"\\ndocs = docsearch.similarity_search(query)\\nchain.run(input_documents=docs, question=query)\";\n",
       "                var nbb_formatted_code = \"query = \\\"Transaction reporting obligations\\\"\\ndocs = docsearch.similarity_search(query)\\nchain.run(input_documents=docs, question=query)\";\n",
       "                var nbb_cells = Jupyter.notebook.get_cells();\n",
       "                for (var i = 0; i < nbb_cells.length; ++i) {\n",
       "                    if (nbb_cells[i].input_prompt_number == nbb_cell_id) {\n",
       "                        if (nbb_cells[i].get_text() == nbb_unformatted_code) {\n",
       "                             nbb_cells[i].set_text(nbb_formatted_code);\n",
       "                        }\n",
       "                        break;\n",
       "                    }\n",
       "                }\n",
       "            }, 500);\n",
       "            "
      ],
      "text/plain": [
       "<IPython.core.display.Javascript object>"
      ]
     },
     "metadata": {},
     "output_type": "display_data"
    }
   ],
   "source": [
    "query = \"Transaction reporting obligations\"\n",
    "docs = docsearch.similarity_search(query)\n",
    "chain.run(input_documents=docs, question=query)"
   ]
  },
  {
   "cell_type": "code",
   "execution_count": 62,
   "id": "a70bc042",
   "metadata": {},
   "outputs": [
    {
     "data": {
      "text/plain": [
       "' Investment firms must provide clear disclosure of potential conflicts of interest, record telephone conversations and electronic communications involving client orders, provide a record of the agreement between the firm and the client, provide adequate reports to the client in a durable medium, make sure marketing communications are fair, clear, and not misleading, and notify clients that telephone communications with the firm will be recorded.'"
      ]
     },
     "execution_count": 62,
     "metadata": {},
     "output_type": "execute_result"
    },
    {
     "data": {
      "application/javascript": [
       "\n",
       "            setTimeout(function() {\n",
       "                var nbb_cell_id = 62;\n",
       "                var nbb_unformatted_code = \"query = \\\"List communications obligations\\\"\\ndocs = docsearch.similarity_search(query)\\nchain.run(input_documents=docs, question=query)\";\n",
       "                var nbb_formatted_code = \"query = \\\"List communications obligations\\\"\\ndocs = docsearch.similarity_search(query)\\nchain.run(input_documents=docs, question=query)\";\n",
       "                var nbb_cells = Jupyter.notebook.get_cells();\n",
       "                for (var i = 0; i < nbb_cells.length; ++i) {\n",
       "                    if (nbb_cells[i].input_prompt_number == nbb_cell_id) {\n",
       "                        if (nbb_cells[i].get_text() == nbb_unformatted_code) {\n",
       "                             nbb_cells[i].set_text(nbb_formatted_code);\n",
       "                        }\n",
       "                        break;\n",
       "                    }\n",
       "                }\n",
       "            }, 500);\n",
       "            "
      ],
      "text/plain": [
       "<IPython.core.display.Javascript object>"
      ]
     },
     "metadata": {},
     "output_type": "display_data"
    }
   ],
   "source": [
    "query = \"List communications obligations\"\n",
    "docs = docsearch.similarity_search(query)\n",
    "chain.run(input_documents=docs, question=query)"
   ]
  }
 ],
 "metadata": {
  "kernelspec": {
   "display_name": "Python 3 (ipykernel)",
   "language": "python",
   "name": "python3"
  },
  "language_info": {
   "codemirror_mode": {
    "name": "ipython",
    "version": 3
   },
   "file_extension": ".py",
   "mimetype": "text/x-python",
   "name": "python",
   "nbconvert_exporter": "python",
   "pygments_lexer": "ipython3",
   "version": "3.10.10"
  }
 },
 "nbformat": 4,
 "nbformat_minor": 5
}
